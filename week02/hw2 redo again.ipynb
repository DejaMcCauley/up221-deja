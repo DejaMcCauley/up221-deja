{
 "cells": [
  {
   "cell_type": "code",
   "execution_count": 4,
   "id": "9a026ec6-45e8-43b7-841f-211bce814f83",
   "metadata": {},
   "outputs": [],
   "source": [
    "import pandas as pd\n",
    "import geopandas as gpd\n",
    "import matplotlib.pyplot as plt "
   ]
  },
  {
   "cell_type": "code",
   "execution_count": 6,
   "id": "033f44b0-12be-4e36-9c16-1d9869309ec3",
   "metadata": {},
   "outputs": [],
   "source": [
    "parks = gpd.read_file ('data/PPR_Program_Sites.csv')"
   ]
  },
  {
   "cell_type": "code",
   "execution_count": null,
   "id": "ebd6f83e-94ea-47ee-85f1-3f684d25ada8",
   "metadata": {},
   "outputs": [],
   "source": [
    "gdf="
   ]
  }
 ],
 "metadata": {
  "kernelspec": {
   "display_name": "Python 3 (ipykernel)",
   "language": "python",
   "name": "python3"
  },
  "language_info": {
   "codemirror_mode": {
    "name": "ipython",
    "version": 3
   },
   "file_extension": ".py",
   "mimetype": "text/x-python",
   "name": "python",
   "nbconvert_exporter": "python",
   "pygments_lexer": "ipython3",
   "version": "3.10.8"
  }
 },
 "nbformat": 4,
 "nbformat_minor": 5
}
