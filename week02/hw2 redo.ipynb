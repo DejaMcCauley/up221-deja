{
 "cells": [
  {
   "cell_type": "code",
   "execution_count": 5,
   "id": "ffe29c3e-ed39-43e0-b4bb-25330b310440",
   "metadata": {},
   "outputs": [],
   "source": [
    "import pandas as pd \n",
    "import geopandas as gpd"
   ]
  },
  {
   "cell_type": "code",
   "execution_count": 6,
   "id": "b3697300-6371-415a-8664-e8ab89b1eed5",
   "metadata": {},
   "outputs": [],
   "source": [
    "foods = gpd.read_file ('data/PPR_Program_Sites.csv')"
   ]
  },
  {
   "cell_type": "code",
   "execution_count": 8,
   "id": "1adc346b-7503-4b48-a47e-f1ea22bdfb81",
   "metadata": {},
   "outputs": [
    {
     "data": {
      "text/plain": [
       "geopandas.geodataframe.GeoDataFrame"
      ]
     },
     "execution_count": 8,
     "metadata": {},
     "output_type": "execute_result"
    }
   ],
   "source": [
    "type (foods)"
   ]
  },
  {
   "cell_type": "code",
   "execution_count": 11,
   "id": "78c6d5e1-609f-456d-82b2-e055f631dd11",
   "metadata": {},
   "outputs": [
    {
     "data": {
      "text/plain": [
       "<bound method NDFrame.head of                      X                 Y OBJECTID  \\\n",
       "0    -75.1636341891681   40.053862669122        1   \n",
       "1    -75.0075107483677  40.1228431723608        2   \n",
       "2    -75.1698319055514  40.0646864811466        3   \n",
       "3    -75.1747635378688  40.0022212258066        4   \n",
       "4    -75.1715193626166  39.9421185311373        5   \n",
       "..                 ...               ...      ...   \n",
       "217   -75.181715509178  39.9488367380004      218   \n",
       "218  -75.1869372277938  39.9950086278213      219   \n",
       "219  -75.1628625968317  39.9727326586703      220   \n",
       "220  -75.1908126217184  39.9650367191299      221   \n",
       "221  -75.1191358485831  39.9950303399113      222   \n",
       "\n",
       "                                   PARK_NAME DPP_ASSET_ID PROGRAM_TYPE  \\\n",
       "0          Awbury Park and Recreation Center          604      PPR_REC   \n",
       "1    Daniel Boyle Memorial Recreation Center         1843      PPR_REC   \n",
       "2                Charles M Finley Playground         1989      PPR_REC   \n",
       "3              James Allen Shuler Playground         1878      PPR_REC   \n",
       "4          Marian Anderson Recreation Center         1901      PPR_REC   \n",
       "..                                       ...          ...          ...   \n",
       "217                    Schuylkill River Park         2992      PPR_REC   \n",
       "218            Strawberry Mansion Playground          808      PPR_REC   \n",
       "219                   Stiles Street Play Lot          945  NON_PPR_REC   \n",
       "220              33rd and Wallace Playground         1801      PPR_REC   \n",
       "221                         McPherson Square          576      PPR_REC   \n",
       "\n",
       "    SITE_CLASS BUILDING GYM LABEL_NUMBER  \\\n",
       "0            B        Y   N                \n",
       "1            B        Y   N                \n",
       "2            A        Y   Y                \n",
       "3            B        Y   N                \n",
       "4            A        Y   Y                \n",
       "..         ...      ...  ..          ...   \n",
       "217          D        N   N                \n",
       "218          C        N   N                \n",
       "219          D        N   N                \n",
       "220          C        Y   N                \n",
       "221          C        N   N                \n",
       "\n",
       "                                  COMMENTS       DATA_SOURCE geometry  \n",
       "0                                           Programs 11/2022     None  \n",
       "1                                           Programs 11/2022     None  \n",
       "2                                           Programs 11/2022     None  \n",
       "3                                           Programs 11/2022     None  \n",
       "4                                           Programs 11/2022     None  \n",
       "..                                     ...               ...      ...  \n",
       "217  Markward is located within this park.  Programs 11/2022     None  \n",
       "218                                         Programs 11/2022     None  \n",
       "219                                         Programs 11/2022     None  \n",
       "220                                         Programs 11/2022     None  \n",
       "221                                         Programs 11/2022     None  \n",
       "\n",
       "[222 rows x 13 columns]>"
      ]
     },
     "execution_count": 11,
     "metadata": {},
     "output_type": "execute_result"
    }
   ],
   "source": [
    "foods.head"
   ]
  },
  {
   "cell_type": "code",
   "execution_count": 12,
   "id": "b894066f-606a-4e54-b3bd-d397b51910bc",
   "metadata": {},
   "outputs": [
    {
     "data": {
      "text/html": [
       "<div>\n",
       "<style scoped>\n",
       "    .dataframe tbody tr th:only-of-type {\n",
       "        vertical-align: middle;\n",
       "    }\n",
       "\n",
       "    .dataframe tbody tr th {\n",
       "        vertical-align: top;\n",
       "    }\n",
       "\n",
       "    .dataframe thead th {\n",
       "        text-align: right;\n",
       "    }\n",
       "</style>\n",
       "<table border=\"1\" class=\"dataframe\">\n",
       "  <thead>\n",
       "    <tr style=\"text-align: right;\">\n",
       "      <th></th>\n",
       "      <th>X</th>\n",
       "      <th>Y</th>\n",
       "      <th>OBJECTID</th>\n",
       "      <th>PARK_NAME</th>\n",
       "      <th>DPP_ASSET_ID</th>\n",
       "      <th>PROGRAM_TYPE</th>\n",
       "      <th>SITE_CLASS</th>\n",
       "      <th>BUILDING</th>\n",
       "      <th>GYM</th>\n",
       "      <th>LABEL_NUMBER</th>\n",
       "      <th>COMMENTS</th>\n",
       "      <th>DATA_SOURCE</th>\n",
       "      <th>geometry</th>\n",
       "    </tr>\n",
       "  </thead>\n",
       "  <tbody>\n",
       "    <tr>\n",
       "      <th>221</th>\n",
       "      <td>-75.1191358485831</td>\n",
       "      <td>39.9950303399113</td>\n",
       "      <td>222</td>\n",
       "      <td>McPherson Square</td>\n",
       "      <td>576</td>\n",
       "      <td>PPR_REC</td>\n",
       "      <td>C</td>\n",
       "      <td>N</td>\n",
       "      <td>N</td>\n",
       "      <td></td>\n",
       "      <td></td>\n",
       "      <td>Programs 11/2022</td>\n",
       "      <td>None</td>\n",
       "    </tr>\n",
       "  </tbody>\n",
       "</table>\n",
       "</div>"
      ],
      "text/plain": [
       "                     X                 Y OBJECTID         PARK_NAME  \\\n",
       "221  -75.1191358485831  39.9950303399113      222  McPherson Square   \n",
       "\n",
       "    DPP_ASSET_ID PROGRAM_TYPE SITE_CLASS BUILDING GYM LABEL_NUMBER COMMENTS  \\\n",
       "221          576      PPR_REC          C        N   N                         \n",
       "\n",
       "          DATA_SOURCE geometry  \n",
       "221  Programs 11/2022     None  "
      ]
     },
     "execution_count": 12,
     "metadata": {},
     "output_type": "execute_result"
    }
   ],
   "source": [
    "foods.tail(1) "
   ]
  },
  {
   "cell_type": "code",
   "execution_count": 13,
   "id": "eb4957e4-263d-4ae1-92b2-28928b86ea84",
   "metadata": {},
   "outputs": [
    {
     "data": {
      "text/html": [
       "<div>\n",
       "<style scoped>\n",
       "    .dataframe tbody tr th:only-of-type {\n",
       "        vertical-align: middle;\n",
       "    }\n",
       "\n",
       "    .dataframe tbody tr th {\n",
       "        vertical-align: top;\n",
       "    }\n",
       "\n",
       "    .dataframe thead th {\n",
       "        text-align: right;\n",
       "    }\n",
       "</style>\n",
       "<table border=\"1\" class=\"dataframe\">\n",
       "  <thead>\n",
       "    <tr style=\"text-align: right;\">\n",
       "      <th></th>\n",
       "      <th>X</th>\n",
       "      <th>Y</th>\n",
       "      <th>OBJECTID</th>\n",
       "      <th>PARK_NAME</th>\n",
       "      <th>DPP_ASSET_ID</th>\n",
       "      <th>PROGRAM_TYPE</th>\n",
       "      <th>SITE_CLASS</th>\n",
       "      <th>BUILDING</th>\n",
       "      <th>GYM</th>\n",
       "      <th>LABEL_NUMBER</th>\n",
       "      <th>COMMENTS</th>\n",
       "      <th>DATA_SOURCE</th>\n",
       "      <th>geometry</th>\n",
       "    </tr>\n",
       "  </thead>\n",
       "  <tbody>\n",
       "    <tr>\n",
       "      <th>217</th>\n",
       "      <td>-75.181715509178</td>\n",
       "      <td>39.9488367380004</td>\n",
       "      <td>218</td>\n",
       "      <td>Schuylkill River Park</td>\n",
       "      <td>2992</td>\n",
       "      <td>PPR_REC</td>\n",
       "      <td>D</td>\n",
       "      <td>N</td>\n",
       "      <td>N</td>\n",
       "      <td></td>\n",
       "      <td>Markward is located within this park.</td>\n",
       "      <td>Programs 11/2022</td>\n",
       "      <td>None</td>\n",
       "    </tr>\n",
       "    <tr>\n",
       "      <th>218</th>\n",
       "      <td>-75.1869372277938</td>\n",
       "      <td>39.9950086278213</td>\n",
       "      <td>219</td>\n",
       "      <td>Strawberry Mansion Playground</td>\n",
       "      <td>808</td>\n",
       "      <td>PPR_REC</td>\n",
       "      <td>C</td>\n",
       "      <td>N</td>\n",
       "      <td>N</td>\n",
       "      <td></td>\n",
       "      <td></td>\n",
       "      <td>Programs 11/2022</td>\n",
       "      <td>None</td>\n",
       "    </tr>\n",
       "    <tr>\n",
       "      <th>219</th>\n",
       "      <td>-75.1628625968317</td>\n",
       "      <td>39.9727326586703</td>\n",
       "      <td>220</td>\n",
       "      <td>Stiles Street Play Lot</td>\n",
       "      <td>945</td>\n",
       "      <td>NON_PPR_REC</td>\n",
       "      <td>D</td>\n",
       "      <td>N</td>\n",
       "      <td>N</td>\n",
       "      <td></td>\n",
       "      <td></td>\n",
       "      <td>Programs 11/2022</td>\n",
       "      <td>None</td>\n",
       "    </tr>\n",
       "    <tr>\n",
       "      <th>220</th>\n",
       "      <td>-75.1908126217184</td>\n",
       "      <td>39.9650367191299</td>\n",
       "      <td>221</td>\n",
       "      <td>33rd and Wallace Playground</td>\n",
       "      <td>1801</td>\n",
       "      <td>PPR_REC</td>\n",
       "      <td>C</td>\n",
       "      <td>Y</td>\n",
       "      <td>N</td>\n",
       "      <td></td>\n",
       "      <td></td>\n",
       "      <td>Programs 11/2022</td>\n",
       "      <td>None</td>\n",
       "    </tr>\n",
       "    <tr>\n",
       "      <th>221</th>\n",
       "      <td>-75.1191358485831</td>\n",
       "      <td>39.9950303399113</td>\n",
       "      <td>222</td>\n",
       "      <td>McPherson Square</td>\n",
       "      <td>576</td>\n",
       "      <td>PPR_REC</td>\n",
       "      <td>C</td>\n",
       "      <td>N</td>\n",
       "      <td>N</td>\n",
       "      <td></td>\n",
       "      <td></td>\n",
       "      <td>Programs 11/2022</td>\n",
       "      <td>None</td>\n",
       "    </tr>\n",
       "  </tbody>\n",
       "</table>\n",
       "</div>"
      ],
      "text/plain": [
       "                     X                 Y OBJECTID  \\\n",
       "217   -75.181715509178  39.9488367380004      218   \n",
       "218  -75.1869372277938  39.9950086278213      219   \n",
       "219  -75.1628625968317  39.9727326586703      220   \n",
       "220  -75.1908126217184  39.9650367191299      221   \n",
       "221  -75.1191358485831  39.9950303399113      222   \n",
       "\n",
       "                         PARK_NAME DPP_ASSET_ID PROGRAM_TYPE SITE_CLASS  \\\n",
       "217          Schuylkill River Park         2992      PPR_REC          D   \n",
       "218  Strawberry Mansion Playground          808      PPR_REC          C   \n",
       "219         Stiles Street Play Lot          945  NON_PPR_REC          D   \n",
       "220    33rd and Wallace Playground         1801      PPR_REC          C   \n",
       "221               McPherson Square          576      PPR_REC          C   \n",
       "\n",
       "    BUILDING GYM LABEL_NUMBER                               COMMENTS  \\\n",
       "217        N   N               Markward is located within this park.   \n",
       "218        N   N                                                       \n",
       "219        N   N                                                       \n",
       "220        Y   N                                                       \n",
       "221        N   N                                                       \n",
       "\n",
       "          DATA_SOURCE geometry  \n",
       "217  Programs 11/2022     None  \n",
       "218  Programs 11/2022     None  \n",
       "219  Programs 11/2022     None  \n",
       "220  Programs 11/2022     None  \n",
       "221  Programs 11/2022     None  "
      ]
     },
     "execution_count": 13,
     "metadata": {},
     "output_type": "execute_result"
    }
   ],
   "source": [
    "foods.tail()"
   ]
  },
  {
   "cell_type": "code",
   "execution_count": 14,
   "id": "c96f7c96-c503-4da5-9a9e-2c7792b035ba",
   "metadata": {},
   "outputs": [
    {
     "data": {
      "text/plain": [
       "X                 object\n",
       "Y                 object\n",
       "OBJECTID          object\n",
       "PARK_NAME         object\n",
       "DPP_ASSET_ID      object\n",
       "PROGRAM_TYPE      object\n",
       "SITE_CLASS        object\n",
       "BUILDING          object\n",
       "GYM               object\n",
       "LABEL_NUMBER      object\n",
       "COMMENTS          object\n",
       "DATA_SOURCE       object\n",
       "geometry        geometry\n",
       "dtype: object"
      ]
     },
     "execution_count": 14,
     "metadata": {},
     "output_type": "execute_result"
    }
   ],
   "source": [
    "foods.dtypes"
   ]
  },
  {
   "cell_type": "code",
   "execution_count": 15,
   "id": "27e87e64-5b50-4efb-8ead-b602e456d5d1",
   "metadata": {},
   "outputs": [
    {
     "data": {
      "text/plain": [
       "(222, 13)"
      ]
     },
     "execution_count": 15,
     "metadata": {},
     "output_type": "execute_result"
    }
   ],
   "source": [
    "foods.shape"
   ]
  },
  {
   "cell_type": "code",
   "execution_count": 16,
   "id": "bada288d-cd3b-4927-8d14-194cf62d521f",
   "metadata": {},
   "outputs": [
    {
     "name": "stdout",
     "output_type": "stream",
     "text": [
      "<class 'geopandas.geodataframe.GeoDataFrame'>\n",
      "RangeIndex: 222 entries, 0 to 221\n",
      "Data columns (total 13 columns):\n",
      " #   Column        Non-Null Count  Dtype   \n",
      "---  ------        --------------  -----   \n",
      " 0   X             222 non-null    object  \n",
      " 1   Y             222 non-null    object  \n",
      " 2   OBJECTID      222 non-null    object  \n",
      " 3   PARK_NAME     222 non-null    object  \n",
      " 4   DPP_ASSET_ID  222 non-null    object  \n",
      " 5   PROGRAM_TYPE  222 non-null    object  \n",
      " 6   SITE_CLASS    222 non-null    object  \n",
      " 7   BUILDING      222 non-null    object  \n",
      " 8   GYM           222 non-null    object  \n",
      " 9   LABEL_NUMBER  222 non-null    object  \n",
      " 10  COMMENTS      222 non-null    object  \n",
      " 11  DATA_SOURCE   222 non-null    object  \n",
      " 12  geometry      0 non-null      geometry\n",
      "dtypes: geometry(1), object(12)\n",
      "memory usage: 22.7+ KB\n"
     ]
    }
   ],
   "source": [
    "foods.info()"
   ]
  },
  {
   "cell_type": "code",
   "execution_count": 17,
   "id": "9db02627-ea60-44b3-aeca-5b512ff2984b",
   "metadata": {},
   "outputs": [
    {
     "data": {
      "text/plain": [
       "15             Thomas I Guerin Recreation Center\n",
       "73                      Joseph F Vogt Playground\n",
       "70                  Joseph C McIlvain Playground\n",
       "56                  Bridesburg Recreation Center\n",
       "171    East Passyunk Community Recreation Center\n",
       "Name: PARK_NAME, dtype: object"
      ]
     },
     "execution_count": 17,
     "metadata": {},
     "output_type": "execute_result"
    }
   ],
   "source": [
    "foods['PARK_NAME'].sample(5)"
   ]
  },
  {
   "cell_type": "code",
   "execution_count": 18,
   "id": "f2b816a0-f055-4b5c-8f7d-cb9644a3c99c",
   "metadata": {},
   "outputs": [
    {
     "data": {
      "text/plain": [
       "179    C\n",
       "33     B\n",
       "141    A\n",
       "219    D\n",
       "199    C\n",
       "Name: SITE_CLASS, dtype: object"
      ]
     },
     "execution_count": 18,
     "metadata": {},
     "output_type": "execute_result"
    }
   ],
   "source": [
    "foods['SITE_CLASS'].sample(5)"
   ]
  },
  {
   "cell_type": "code",
   "execution_count": 19,
   "id": "00c236e0-0c8f-4ab2-a712-4a28baab1954",
   "metadata": {},
   "outputs": [
    {
     "data": {
      "text/plain": [
       "35                            PPR_REC\n",
       "48                            PPR_REC\n",
       "177                           PPR_REC\n",
       "183    ENVIRONMENTAL_EDUCATION_CENTER\n",
       "122                           PPR_REC\n",
       "Name: PROGRAM_TYPE, dtype: object"
      ]
     },
     "execution_count": 19,
     "metadata": {},
     "output_type": "execute_result"
    }
   ],
   "source": [
    "foods['PROGRAM_TYPE'].sample(5)"
   ]
  },
  {
   "cell_type": "code",
   "execution_count": 20,
   "id": "dd1f69b1-15c1-4574-89d6-a4bd16eb6cf5",
   "metadata": {},
   "outputs": [
    {
     "data": {
      "text/plain": [
       "PPR_REC                           202\n",
       "NON_PPR_REC                         9\n",
       "OLDER_ADULT_CENTER                  6\n",
       "ENVIRONMENTAL_EDUCATION_CENTER      3\n",
       "POOL                                2\n",
       "Name: PROGRAM_TYPE, dtype: int64"
      ]
     },
     "execution_count": 20,
     "metadata": {},
     "output_type": "execute_result"
    }
   ],
   "source": [
    "foods['PROGRAM_TYPE'].value_counts()"
   ]
  },
  {
   "cell_type": "code",
   "execution_count": 21,
   "id": "a94d21a7-7d02-4d30-9827-258c15b4ad54",
   "metadata": {},
   "outputs": [],
   "source": [
    "program_count = foods['PROGRAM_TYPE'].value_counts()"
   ]
  },
  {
   "cell_type": "code",
   "execution_count": 22,
   "id": "d0b76f1e-b739-463c-b18e-6476ac44e9ab",
   "metadata": {},
   "outputs": [
    {
     "data": {
      "text/plain": [
       "pandas.core.series.Series"
      ]
     },
     "execution_count": 22,
     "metadata": {},
     "output_type": "execute_result"
    }
   ],
   "source": [
    "type(program_count)"
   ]
  },
  {
   "cell_type": "code",
   "execution_count": 24,
   "id": "aa5d6aaf-8016-46e9-9232-4d1817fcd54d",
   "metadata": {},
   "outputs": [
    {
     "data": {
      "text/html": [
       "<div>\n",
       "<style scoped>\n",
       "    .dataframe tbody tr th:only-of-type {\n",
       "        vertical-align: middle;\n",
       "    }\n",
       "\n",
       "    .dataframe tbody tr th {\n",
       "        vertical-align: top;\n",
       "    }\n",
       "\n",
       "    .dataframe thead th {\n",
       "        text-align: right;\n",
       "    }\n",
       "</style>\n",
       "<table border=\"1\" class=\"dataframe\">\n",
       "  <thead>\n",
       "    <tr style=\"text-align: right;\">\n",
       "      <th></th>\n",
       "      <th>level_0</th>\n",
       "      <th>index</th>\n",
       "      <th>PROGRAM_TYPE</th>\n",
       "    </tr>\n",
       "  </thead>\n",
       "  <tbody>\n",
       "    <tr>\n",
       "      <th>0</th>\n",
       "      <td>0</td>\n",
       "      <td>PPR_REC</td>\n",
       "      <td>202</td>\n",
       "    </tr>\n",
       "    <tr>\n",
       "      <th>1</th>\n",
       "      <td>1</td>\n",
       "      <td>NON_PPR_REC</td>\n",
       "      <td>9</td>\n",
       "    </tr>\n",
       "    <tr>\n",
       "      <th>2</th>\n",
       "      <td>2</td>\n",
       "      <td>OLDER_ADULT_CENTER</td>\n",
       "      <td>6</td>\n",
       "    </tr>\n",
       "    <tr>\n",
       "      <th>3</th>\n",
       "      <td>3</td>\n",
       "      <td>ENVIRONMENTAL_EDUCATION_CENTER</td>\n",
       "      <td>3</td>\n",
       "    </tr>\n",
       "    <tr>\n",
       "      <th>4</th>\n",
       "      <td>4</td>\n",
       "      <td>POOL</td>\n",
       "      <td>2</td>\n",
       "    </tr>\n",
       "  </tbody>\n",
       "</table>\n",
       "</div>"
      ],
      "text/plain": [
       "   level_0                           index  PROGRAM_TYPE\n",
       "0        0                         PPR_REC           202\n",
       "1        1                     NON_PPR_REC             9\n",
       "2        2              OLDER_ADULT_CENTER             6\n",
       "3        3  ENVIRONMENTAL_EDUCATION_CENTER             3\n",
       "4        4                            POOL             2"
      ]
     },
     "execution_count": 24,
     "metadata": {},
     "output_type": "execute_result"
    }
   ],
   "source": [
    "program_count = program_count.reset_index()\n",
    "program_count"
   ]
  },
  {
   "cell_type": "code",
   "execution_count": 25,
   "id": "519f25b5-8000-44ec-869b-148424f844c6",
   "metadata": {},
   "outputs": [
    {
     "data": {
      "text/plain": [
       "pandas.core.frame.DataFrame"
      ]
     },
     "execution_count": 25,
     "metadata": {},
     "output_type": "execute_result"
    }
   ],
   "source": [
    "type(program_count)"
   ]
  },
  {
   "cell_type": "code",
   "execution_count": 26,
   "id": "f1450e31-4b26-4d3e-b841-ea522bfaaf0d",
   "metadata": {},
   "outputs": [
    {
     "data": {
      "text/plain": [
       "['level_0', 'index', 'PROGRAM_TYPE']"
      ]
     },
     "execution_count": 26,
     "metadata": {},
     "output_type": "execute_result"
    }
   ],
   "source": [
    "program_count.columns.to_list()"
   ]
  },
  {
   "cell_type": "code",
   "execution_count": 27,
   "id": "75d05248-0a07-4e0d-a468-f32550ec220c",
   "metadata": {},
   "outputs": [],
   "source": [
    "program_count.columns = ['','program','count']"
   ]
  },
  {
   "cell_type": "code",
   "execution_count": 28,
   "id": "67dcdd79-1e62-417c-91d4-c2a7b6e64772",
   "metadata": {},
   "outputs": [
    {
     "data": {
      "text/html": [
       "<div>\n",
       "<style scoped>\n",
       "    .dataframe tbody tr th:only-of-type {\n",
       "        vertical-align: middle;\n",
       "    }\n",
       "\n",
       "    .dataframe tbody tr th {\n",
       "        vertical-align: top;\n",
       "    }\n",
       "\n",
       "    .dataframe thead th {\n",
       "        text-align: right;\n",
       "    }\n",
       "</style>\n",
       "<table border=\"1\" class=\"dataframe\">\n",
       "  <thead>\n",
       "    <tr style=\"text-align: right;\">\n",
       "      <th></th>\n",
       "      <th></th>\n",
       "      <th>program</th>\n",
       "      <th>count</th>\n",
       "    </tr>\n",
       "  </thead>\n",
       "  <tbody>\n",
       "    <tr>\n",
       "      <th>0</th>\n",
       "      <td>0</td>\n",
       "      <td>PPR_REC</td>\n",
       "      <td>202</td>\n",
       "    </tr>\n",
       "    <tr>\n",
       "      <th>1</th>\n",
       "      <td>1</td>\n",
       "      <td>NON_PPR_REC</td>\n",
       "      <td>9</td>\n",
       "    </tr>\n",
       "    <tr>\n",
       "      <th>2</th>\n",
       "      <td>2</td>\n",
       "      <td>OLDER_ADULT_CENTER</td>\n",
       "      <td>6</td>\n",
       "    </tr>\n",
       "    <tr>\n",
       "      <th>3</th>\n",
       "      <td>3</td>\n",
       "      <td>ENVIRONMENTAL_EDUCATION_CENTER</td>\n",
       "      <td>3</td>\n",
       "    </tr>\n",
       "    <tr>\n",
       "      <th>4</th>\n",
       "      <td>4</td>\n",
       "      <td>POOL</td>\n",
       "      <td>2</td>\n",
       "    </tr>\n",
       "  </tbody>\n",
       "</table>\n",
       "</div>"
      ],
      "text/plain": [
       "                             program  count\n",
       "0  0                         PPR_REC    202\n",
       "1  1                     NON_PPR_REC      9\n",
       "2  2              OLDER_ADULT_CENTER      6\n",
       "3  3  ENVIRONMENTAL_EDUCATION_CENTER      3\n",
       "4  4                            POOL      2"
      ]
     },
     "execution_count": 28,
     "metadata": {},
     "output_type": "execute_result"
    }
   ],
   "source": [
    "program_count"
   ]
  },
  {
   "cell_type": "code",
   "execution_count": 29,
   "id": "2bccd9f5-d448-41b2-8524-1adbf268be82",
   "metadata": {},
   "outputs": [
    {
     "data": {
      "text/plain": [
       "<AxesSubplot: >"
      ]
     },
     "execution_count": 29,
     "metadata": {},
     "output_type": "execute_result"
    },
    {
     "data": {
      "image/png": "[encoded data removed]",
      "text/plain": [
       "<Figure size 640x480 with 1 Axes>"
      ]
     },
     "metadata": {},
     "output_type": "display_data"
    }
   ],
   "source": [
    "program_count.plot()"
   ]
  },
  {
   "cell_type": "code",
   "execution_count": 30,
   "id": "35fc926f-edd4-474f-b208-0bd68987f43e",
   "metadata": {},
   "outputs": [
    {
     "data": {
      "text/plain": [
       "<AxesSubplot: xlabel='program'>"
      ]
     },
     "execution_count": 30,
     "metadata": {},
     "output_type": "execute_result"
    },
    {
     "data": {
      "image/png": "[encoded data removed]",
      "text/plain": [
       "<Figure size 640x480 with 1 Axes>"
      ]
     },
     "metadata": {},
     "output_type": "display_data"
    }
   ],
   "source": [
    "program_count.plot('program','count')"
   ]
  },
  {
   "cell_type": "code",
   "execution_count": 31,
   "id": "b5cef7df-e19d-4ade-9a78-0e40870a164e",
   "metadata": {},
   "outputs": [
    {
     "data": {
      "text/plain": [
       "<AxesSubplot: title={'center': 'Number of Programs per Type'}, xlabel='program'>"
      ]
     },
     "execution_count": 31,
     "metadata": {},
     "output_type": "execute_result"
    },
    {
     "data": {
      "image/png": "[encoded data removed]",
      "text/plain": [
       "<Figure size 640x480 with 1 Axes>"
      ]
     },
     "metadata": {},
     "output_type": "display_data"
    }
   ],
   "source": [
    "program_count.plot.bar(x = 'program',y = 'count',title = 'Number of Programs per Type')"
   ]
  },
  {
   "cell_type": "code",
   "execution_count": 32,
   "id": "152dba2d-a17b-4e48-8bae-ac2d52dfcd66",
   "metadata": {},
   "outputs": [
    {
     "name": "stdout",
     "output_type": "stream",
     "text": [
      "<class 'geopandas.geodataframe.GeoDataFrame'>\n",
      "RangeIndex: 222 entries, 0 to 221\n",
      "Data columns (total 13 columns):\n",
      " #   Column        Non-Null Count  Dtype   \n",
      "---  ------        --------------  -----   \n",
      " 0   X             222 non-null    object  \n",
      " 1   Y             222 non-null    object  \n",
      " 2   OBJECTID      222 non-null    object  \n",
      " 3   PARK_NAME     222 non-null    object  \n",
      " 4   DPP_ASSET_ID  222 non-null    object  \n",
      " 5   PROGRAM_TYPE  222 non-null    object  \n",
      " 6   SITE_CLASS    222 non-null    object  \n",
      " 7   BUILDING      222 non-null    object  \n",
      " 8   GYM           222 non-null    object  \n",
      " 9   LABEL_NUMBER  222 non-null    object  \n",
      " 10  COMMENTS      222 non-null    object  \n",
      " 11  DATA_SOURCE   222 non-null    object  \n",
      " 12  geometry      0 non-null      geometry\n",
      "dtypes: geometry(1), object(12)\n",
      "memory usage: 22.7+ KB\n"
     ]
    }
   ],
   "source": [
    "foods.info()"
   ]
  },
  {
   "cell_type": "code",
   "execution_count": 33,
   "id": "f0c4da82-c2ad-4fba-b515-6fa83bec59e4",
   "metadata": {},
   "outputs": [
    {
     "data": {
      "text/html": [
       "<div>\n",
       "<style scoped>\n",
       "    .dataframe tbody tr th:only-of-type {\n",
       "        vertical-align: middle;\n",
       "    }\n",
       "\n",
       "    .dataframe tbody tr th {\n",
       "        vertical-align: top;\n",
       "    }\n",
       "\n",
       "    .dataframe thead th {\n",
       "        text-align: right;\n",
       "    }\n",
       "</style>\n",
       "<table border=\"1\" class=\"dataframe\">\n",
       "  <thead>\n",
       "    <tr style=\"text-align: right;\">\n",
       "      <th></th>\n",
       "      <th>PARK_NAME</th>\n",
       "      <th>PROGRAM_TYPE</th>\n",
       "      <th>SITE_CLASS</th>\n",
       "      <th>X</th>\n",
       "      <th>Y</th>\n",
       "    </tr>\n",
       "  </thead>\n",
       "  <tbody>\n",
       "    <tr>\n",
       "      <th>0</th>\n",
       "      <td>Awbury Park and Recreation Center</td>\n",
       "      <td>PPR_REC</td>\n",
       "      <td>B</td>\n",
       "      <td>-75.1636341891681</td>\n",
       "      <td>40.053862669122</td>\n",
       "    </tr>\n",
       "    <tr>\n",
       "      <th>1</th>\n",
       "      <td>Daniel Boyle Memorial Recreation Center</td>\n",
       "      <td>PPR_REC</td>\n",
       "      <td>B</td>\n",
       "      <td>-75.0075107483677</td>\n",
       "      <td>40.1228431723608</td>\n",
       "    </tr>\n",
       "    <tr>\n",
       "      <th>2</th>\n",
       "      <td>Charles M Finley Playground</td>\n",
       "      <td>PPR_REC</td>\n",
       "      <td>A</td>\n",
       "      <td>-75.1698319055514</td>\n",
       "      <td>40.0646864811466</td>\n",
       "    </tr>\n",
       "    <tr>\n",
       "      <th>3</th>\n",
       "      <td>James Allen Shuler Playground</td>\n",
       "      <td>PPR_REC</td>\n",
       "      <td>B</td>\n",
       "      <td>-75.1747635378688</td>\n",
       "      <td>40.0022212258066</td>\n",
       "    </tr>\n",
       "    <tr>\n",
       "      <th>4</th>\n",
       "      <td>Marian Anderson Recreation Center</td>\n",
       "      <td>PPR_REC</td>\n",
       "      <td>A</td>\n",
       "      <td>-75.1715193626166</td>\n",
       "      <td>39.9421185311373</td>\n",
       "    </tr>\n",
       "    <tr>\n",
       "      <th>...</th>\n",
       "      <td>...</td>\n",
       "      <td>...</td>\n",
       "      <td>...</td>\n",
       "      <td>...</td>\n",
       "      <td>...</td>\n",
       "    </tr>\n",
       "    <tr>\n",
       "      <th>217</th>\n",
       "      <td>Schuylkill River Park</td>\n",
       "      <td>PPR_REC</td>\n",
       "      <td>D</td>\n",
       "      <td>-75.181715509178</td>\n",
       "      <td>39.9488367380004</td>\n",
       "    </tr>\n",
       "    <tr>\n",
       "      <th>218</th>\n",
       "      <td>Strawberry Mansion Playground</td>\n",
       "      <td>PPR_REC</td>\n",
       "      <td>C</td>\n",
       "      <td>-75.1869372277938</td>\n",
       "      <td>39.9950086278213</td>\n",
       "    </tr>\n",
       "    <tr>\n",
       "      <th>219</th>\n",
       "      <td>Stiles Street Play Lot</td>\n",
       "      <td>NON_PPR_REC</td>\n",
       "      <td>D</td>\n",
       "      <td>-75.1628625968317</td>\n",
       "      <td>39.9727326586703</td>\n",
       "    </tr>\n",
       "    <tr>\n",
       "      <th>220</th>\n",
       "      <td>33rd and Wallace Playground</td>\n",
       "      <td>PPR_REC</td>\n",
       "      <td>C</td>\n",
       "      <td>-75.1908126217184</td>\n",
       "      <td>39.9650367191299</td>\n",
       "    </tr>\n",
       "    <tr>\n",
       "      <th>221</th>\n",
       "      <td>McPherson Square</td>\n",
       "      <td>PPR_REC</td>\n",
       "      <td>C</td>\n",
       "      <td>-75.1191358485831</td>\n",
       "      <td>39.9950303399113</td>\n",
       "    </tr>\n",
       "  </tbody>\n",
       "</table>\n",
       "<p>222 rows × 5 columns</p>\n",
       "</div>"
      ],
      "text/plain": [
       "                                   PARK_NAME PROGRAM_TYPE SITE_CLASS  \\\n",
       "0          Awbury Park and Recreation Center      PPR_REC          B   \n",
       "1    Daniel Boyle Memorial Recreation Center      PPR_REC          B   \n",
       "2                Charles M Finley Playground      PPR_REC          A   \n",
       "3              James Allen Shuler Playground      PPR_REC          B   \n",
       "4          Marian Anderson Recreation Center      PPR_REC          A   \n",
       "..                                       ...          ...        ...   \n",
       "217                    Schuylkill River Park      PPR_REC          D   \n",
       "218            Strawberry Mansion Playground      PPR_REC          C   \n",
       "219                   Stiles Street Play Lot  NON_PPR_REC          D   \n",
       "220              33rd and Wallace Playground      PPR_REC          C   \n",
       "221                         McPherson Square      PPR_REC          C   \n",
       "\n",
       "                     X                 Y  \n",
       "0    -75.1636341891681   40.053862669122  \n",
       "1    -75.0075107483677  40.1228431723608  \n",
       "2    -75.1698319055514  40.0646864811466  \n",
       "3    -75.1747635378688  40.0022212258066  \n",
       "4    -75.1715193626166  39.9421185311373  \n",
       "..                 ...               ...  \n",
       "217   -75.181715509178  39.9488367380004  \n",
       "218  -75.1869372277938  39.9950086278213  \n",
       "219  -75.1628625968317  39.9727326586703  \n",
       "220  -75.1908126217184  39.9650367191299  \n",
       "221  -75.1191358485831  39.9950303399113  \n",
       "\n",
       "[222 rows x 5 columns]"
      ]
     },
     "execution_count": 33,
     "metadata": {},
     "output_type": "execute_result"
    }
   ],
   "source": [
    "foods[['PARK_NAME','PROGRAM_TYPE','SITE_CLASS','X','Y']]"
   ]
  },
  {
   "cell_type": "code",
   "execution_count": 34,
   "id": "4d59b170-52ba-49c8-a4b7-cc2b4d90ecbc",
   "metadata": {},
   "outputs": [],
   "source": [
    "desired_columns = ['PARK_NAME','PROGRAM_TYPE','SITE_CLASS','X','Y']"
   ]
  },
  {
   "cell_type": "code",
   "execution_count": 36,
   "id": "1a9392f3-e386-4b49-a1ef-fa1570fcba28",
   "metadata": {},
   "outputs": [
    {
     "data": {
      "text/html": [
       "<div>\n",
       "<style scoped>\n",
       "    .dataframe tbody tr th:only-of-type {\n",
       "        vertical-align: middle;\n",
       "    }\n",
       "\n",
       "    .dataframe tbody tr th {\n",
       "        vertical-align: top;\n",
       "    }\n",
       "\n",
       "    .dataframe thead th {\n",
       "        text-align: right;\n",
       "    }\n",
       "</style>\n",
       "<table border=\"1\" class=\"dataframe\">\n",
       "  <thead>\n",
       "    <tr style=\"text-align: right;\">\n",
       "      <th></th>\n",
       "      <th>PARK_NAME</th>\n",
       "      <th>PROGRAM_TYPE</th>\n",
       "      <th>SITE_CLASS</th>\n",
       "      <th>X</th>\n",
       "      <th>Y</th>\n",
       "    </tr>\n",
       "  </thead>\n",
       "  <tbody>\n",
       "    <tr>\n",
       "      <th>0</th>\n",
       "      <td>Awbury Park and Recreation Center</td>\n",
       "      <td>PPR_REC</td>\n",
       "      <td>B</td>\n",
       "      <td>-75.1636341891681</td>\n",
       "      <td>40.053862669122</td>\n",
       "    </tr>\n",
       "    <tr>\n",
       "      <th>1</th>\n",
       "      <td>Daniel Boyle Memorial Recreation Center</td>\n",
       "      <td>PPR_REC</td>\n",
       "      <td>B</td>\n",
       "      <td>-75.0075107483677</td>\n",
       "      <td>40.1228431723608</td>\n",
       "    </tr>\n",
       "    <tr>\n",
       "      <th>2</th>\n",
       "      <td>Charles M Finley Playground</td>\n",
       "      <td>PPR_REC</td>\n",
       "      <td>A</td>\n",
       "      <td>-75.1698319055514</td>\n",
       "      <td>40.0646864811466</td>\n",
       "    </tr>\n",
       "    <tr>\n",
       "      <th>3</th>\n",
       "      <td>James Allen Shuler Playground</td>\n",
       "      <td>PPR_REC</td>\n",
       "      <td>B</td>\n",
       "      <td>-75.1747635378688</td>\n",
       "      <td>40.0022212258066</td>\n",
       "    </tr>\n",
       "    <tr>\n",
       "      <th>4</th>\n",
       "      <td>Marian Anderson Recreation Center</td>\n",
       "      <td>PPR_REC</td>\n",
       "      <td>A</td>\n",
       "      <td>-75.1715193626166</td>\n",
       "      <td>39.9421185311373</td>\n",
       "    </tr>\n",
       "    <tr>\n",
       "      <th>...</th>\n",
       "      <td>...</td>\n",
       "      <td>...</td>\n",
       "      <td>...</td>\n",
       "      <td>...</td>\n",
       "      <td>...</td>\n",
       "    </tr>\n",
       "    <tr>\n",
       "      <th>217</th>\n",
       "      <td>Schuylkill River Park</td>\n",
       "      <td>PPR_REC</td>\n",
       "      <td>D</td>\n",
       "      <td>-75.181715509178</td>\n",
       "      <td>39.9488367380004</td>\n",
       "    </tr>\n",
       "    <tr>\n",
       "      <th>218</th>\n",
       "      <td>Strawberry Mansion Playground</td>\n",
       "      <td>PPR_REC</td>\n",
       "      <td>C</td>\n",
       "      <td>-75.1869372277938</td>\n",
       "      <td>39.9950086278213</td>\n",
       "    </tr>\n",
       "    <tr>\n",
       "      <th>219</th>\n",
       "      <td>Stiles Street Play Lot</td>\n",
       "      <td>NON_PPR_REC</td>\n",
       "      <td>D</td>\n",
       "      <td>-75.1628625968317</td>\n",
       "      <td>39.9727326586703</td>\n",
       "    </tr>\n",
       "    <tr>\n",
       "      <th>220</th>\n",
       "      <td>33rd and Wallace Playground</td>\n",
       "      <td>PPR_REC</td>\n",
       "      <td>C</td>\n",
       "      <td>-75.1908126217184</td>\n",
       "      <td>39.9650367191299</td>\n",
       "    </tr>\n",
       "    <tr>\n",
       "      <th>221</th>\n",
       "      <td>McPherson Square</td>\n",
       "      <td>PPR_REC</td>\n",
       "      <td>C</td>\n",
       "      <td>-75.1191358485831</td>\n",
       "      <td>39.9950303399113</td>\n",
       "    </tr>\n",
       "  </tbody>\n",
       "</table>\n",
       "<p>222 rows × 5 columns</p>\n",
       "</div>"
      ],
      "text/plain": [
       "                                   PARK_NAME PROGRAM_TYPE SITE_CLASS  \\\n",
       "0          Awbury Park and Recreation Center      PPR_REC          B   \n",
       "1    Daniel Boyle Memorial Recreation Center      PPR_REC          B   \n",
       "2                Charles M Finley Playground      PPR_REC          A   \n",
       "3              James Allen Shuler Playground      PPR_REC          B   \n",
       "4          Marian Anderson Recreation Center      PPR_REC          A   \n",
       "..                                       ...          ...        ...   \n",
       "217                    Schuylkill River Park      PPR_REC          D   \n",
       "218            Strawberry Mansion Playground      PPR_REC          C   \n",
       "219                   Stiles Street Play Lot  NON_PPR_REC          D   \n",
       "220              33rd and Wallace Playground      PPR_REC          C   \n",
       "221                         McPherson Square      PPR_REC          C   \n",
       "\n",
       "                     X                 Y  \n",
       "0    -75.1636341891681   40.053862669122  \n",
       "1    -75.0075107483677  40.1228431723608  \n",
       "2    -75.1698319055514  40.0646864811466  \n",
       "3    -75.1747635378688  40.0022212258066  \n",
       "4    -75.1715193626166  39.9421185311373  \n",
       "..                 ...               ...  \n",
       "217   -75.181715509178  39.9488367380004  \n",
       "218  -75.1869372277938  39.9950086278213  \n",
       "219  -75.1628625968317  39.9727326586703  \n",
       "220  -75.1908126217184  39.9650367191299  \n",
       "221  -75.1191358485831  39.9950303399113  \n",
       "\n",
       "[222 rows x 5 columns]"
      ]
     },
     "execution_count": 36,
     "metadata": {},
     "output_type": "execute_result"
    }
   ],
   "source": [
    "foods_trimmed = foods[desired_columns].copy()\n",
    "foods_trimmed"
   ]
  },
  {
   "cell_type": "code",
   "execution_count": 37,
   "id": "0e06afeb-68be-4dda-867c-2f9177be3fe0",
   "metadata": {},
   "outputs": [
    {
     "data": {
      "text/html": [
       "<div>\n",
       "<style scoped>\n",
       "    .dataframe tbody tr th:only-of-type {\n",
       "        vertical-align: middle;\n",
       "    }\n",
       "\n",
       "    .dataframe tbody tr th {\n",
       "        vertical-align: top;\n",
       "    }\n",
       "\n",
       "    .dataframe thead th {\n",
       "        text-align: right;\n",
       "    }\n",
       "</style>\n",
       "<table border=\"1\" class=\"dataframe\">\n",
       "  <thead>\n",
       "    <tr style=\"text-align: right;\">\n",
       "      <th></th>\n",
       "      <th>PARK_NAME</th>\n",
       "      <th>PROGRAM_TYPE</th>\n",
       "      <th>SITE_CLASS</th>\n",
       "      <th>X</th>\n",
       "      <th>Y</th>\n",
       "    </tr>\n",
       "  </thead>\n",
       "  <tbody>\n",
       "    <tr>\n",
       "      <th>0</th>\n",
       "      <td>Awbury Park and Recreation Center</td>\n",
       "      <td>PPR_REC</td>\n",
       "      <td>B</td>\n",
       "      <td>-75.1636341891681</td>\n",
       "      <td>40.053862669122</td>\n",
       "    </tr>\n",
       "    <tr>\n",
       "      <th>1</th>\n",
       "      <td>Daniel Boyle Memorial Recreation Center</td>\n",
       "      <td>PPR_REC</td>\n",
       "      <td>B</td>\n",
       "      <td>-75.0075107483677</td>\n",
       "      <td>40.1228431723608</td>\n",
       "    </tr>\n",
       "    <tr>\n",
       "      <th>2</th>\n",
       "      <td>Charles M Finley Playground</td>\n",
       "      <td>PPR_REC</td>\n",
       "      <td>A</td>\n",
       "      <td>-75.1698319055514</td>\n",
       "      <td>40.0646864811466</td>\n",
       "    </tr>\n",
       "    <tr>\n",
       "      <th>3</th>\n",
       "      <td>James Allen Shuler Playground</td>\n",
       "      <td>PPR_REC</td>\n",
       "      <td>B</td>\n",
       "      <td>-75.1747635378688</td>\n",
       "      <td>40.0022212258066</td>\n",
       "    </tr>\n",
       "    <tr>\n",
       "      <th>4</th>\n",
       "      <td>Marian Anderson Recreation Center</td>\n",
       "      <td>PPR_REC</td>\n",
       "      <td>A</td>\n",
       "      <td>-75.1715193626166</td>\n",
       "      <td>39.9421185311373</td>\n",
       "    </tr>\n",
       "    <tr>\n",
       "      <th>...</th>\n",
       "      <td>...</td>\n",
       "      <td>...</td>\n",
       "      <td>...</td>\n",
       "      <td>...</td>\n",
       "      <td>...</td>\n",
       "    </tr>\n",
       "    <tr>\n",
       "      <th>216</th>\n",
       "      <td>Howard McCall Sr Playground</td>\n",
       "      <td>PPR_REC</td>\n",
       "      <td>C</td>\n",
       "      <td>-75.1844942659314</td>\n",
       "      <td>39.9795991272315</td>\n",
       "    </tr>\n",
       "    <tr>\n",
       "      <th>217</th>\n",
       "      <td>Schuylkill River Park</td>\n",
       "      <td>PPR_REC</td>\n",
       "      <td>D</td>\n",
       "      <td>-75.181715509178</td>\n",
       "      <td>39.9488367380004</td>\n",
       "    </tr>\n",
       "    <tr>\n",
       "      <th>218</th>\n",
       "      <td>Strawberry Mansion Playground</td>\n",
       "      <td>PPR_REC</td>\n",
       "      <td>C</td>\n",
       "      <td>-75.1869372277938</td>\n",
       "      <td>39.9950086278213</td>\n",
       "    </tr>\n",
       "    <tr>\n",
       "      <th>220</th>\n",
       "      <td>33rd and Wallace Playground</td>\n",
       "      <td>PPR_REC</td>\n",
       "      <td>C</td>\n",
       "      <td>-75.1908126217184</td>\n",
       "      <td>39.9650367191299</td>\n",
       "    </tr>\n",
       "    <tr>\n",
       "      <th>221</th>\n",
       "      <td>McPherson Square</td>\n",
       "      <td>PPR_REC</td>\n",
       "      <td>C</td>\n",
       "      <td>-75.1191358485831</td>\n",
       "      <td>39.9950303399113</td>\n",
       "    </tr>\n",
       "  </tbody>\n",
       "</table>\n",
       "<p>202 rows × 5 columns</p>\n",
       "</div>"
      ],
      "text/plain": [
       "                                   PARK_NAME PROGRAM_TYPE SITE_CLASS  \\\n",
       "0          Awbury Park and Recreation Center      PPR_REC          B   \n",
       "1    Daniel Boyle Memorial Recreation Center      PPR_REC          B   \n",
       "2                Charles M Finley Playground      PPR_REC          A   \n",
       "3              James Allen Shuler Playground      PPR_REC          B   \n",
       "4          Marian Anderson Recreation Center      PPR_REC          A   \n",
       "..                                       ...          ...        ...   \n",
       "216              Howard McCall Sr Playground      PPR_REC          C   \n",
       "217                    Schuylkill River Park      PPR_REC          D   \n",
       "218            Strawberry Mansion Playground      PPR_REC          C   \n",
       "220              33rd and Wallace Playground      PPR_REC          C   \n",
       "221                         McPherson Square      PPR_REC          C   \n",
       "\n",
       "                     X                 Y  \n",
       "0    -75.1636341891681   40.053862669122  \n",
       "1    -75.0075107483677  40.1228431723608  \n",
       "2    -75.1698319055514  40.0646864811466  \n",
       "3    -75.1747635378688  40.0022212258066  \n",
       "4    -75.1715193626166  39.9421185311373  \n",
       "..                 ...               ...  \n",
       "216  -75.1844942659314  39.9795991272315  \n",
       "217   -75.181715509178  39.9488367380004  \n",
       "218  -75.1869372277938  39.9950086278213  \n",
       "220  -75.1908126217184  39.9650367191299  \n",
       "221  -75.1191358485831  39.9950303399113  \n",
       "\n",
       "[202 rows x 5 columns]"
      ]
     },
     "execution_count": 37,
     "metadata": {},
     "output_type": "execute_result"
    }
   ],
   "source": [
    "foods_trimmed[foods_trimmed.PROGRAM_TYPE=='PPR_REC']"
   ]
  },
  {
   "cell_type": "code",
   "execution_count": 39,
   "id": "0ec67aea-3ba4-4b67-a99d-a04d491f2462",
   "metadata": {},
   "outputs": [
    {
     "ename": "TypeError",
     "evalue": "no numeric data to plot",
     "output_type": "error",
     "traceback": [
      "\u001b[0;31m---------------------------------------------------------------------------\u001b[0m",
      "\u001b[0;31mTypeError\u001b[0m                                 Traceback (most recent call last)",
      "Cell \u001b[0;32mIn[39], line 1\u001b[0m\n\u001b[0;32m----> 1\u001b[0m \u001b[43mfoods_trimmed\u001b[49m\u001b[38;5;241;43m.\u001b[39;49m\u001b[43mplot\u001b[49m\u001b[43m(\u001b[49m\u001b[43m)\u001b[49m\n",
      "File \u001b[0;32m/opt/conda/lib/python3.10/site-packages/pandas/plotting/_core.py:1000\u001b[0m, in \u001b[0;36mPlotAccessor.__call__\u001b[0;34m(self, *args, **kwargs)\u001b[0m\n\u001b[1;32m    997\u001b[0m             label_name \u001b[38;5;241m=\u001b[39m label_kw \u001b[38;5;129;01mor\u001b[39;00m data\u001b[38;5;241m.\u001b[39mcolumns\n\u001b[1;32m    998\u001b[0m             data\u001b[38;5;241m.\u001b[39mcolumns \u001b[38;5;241m=\u001b[39m label_name\n\u001b[0;32m-> 1000\u001b[0m \u001b[38;5;28;01mreturn\u001b[39;00m \u001b[43mplot_backend\u001b[49m\u001b[38;5;241;43m.\u001b[39;49m\u001b[43mplot\u001b[49m\u001b[43m(\u001b[49m\u001b[43mdata\u001b[49m\u001b[43m,\u001b[49m\u001b[43m \u001b[49m\u001b[43mkind\u001b[49m\u001b[38;5;241;43m=\u001b[39;49m\u001b[43mkind\u001b[49m\u001b[43m,\u001b[49m\u001b[43m \u001b[49m\u001b[38;5;241;43m*\u001b[39;49m\u001b[38;5;241;43m*\u001b[39;49m\u001b[43mkwargs\u001b[49m\u001b[43m)\u001b[49m\n",
      "File \u001b[0;32m/opt/conda/lib/python3.10/site-packages/pandas/plotting/_matplotlib/__init__.py:71\u001b[0m, in \u001b[0;36mplot\u001b[0;34m(data, kind, **kwargs)\u001b[0m\n\u001b[1;32m     69\u001b[0m         kwargs[\u001b[38;5;124m\"\u001b[39m\u001b[38;5;124max\u001b[39m\u001b[38;5;124m\"\u001b[39m] \u001b[38;5;241m=\u001b[39m \u001b[38;5;28mgetattr\u001b[39m(ax, \u001b[38;5;124m\"\u001b[39m\u001b[38;5;124mleft_ax\u001b[39m\u001b[38;5;124m\"\u001b[39m, ax)\n\u001b[1;32m     70\u001b[0m plot_obj \u001b[38;5;241m=\u001b[39m PLOT_CLASSES[kind](data, \u001b[38;5;241m*\u001b[39m\u001b[38;5;241m*\u001b[39mkwargs)\n\u001b[0;32m---> 71\u001b[0m \u001b[43mplot_obj\u001b[49m\u001b[38;5;241;43m.\u001b[39;49m\u001b[43mgenerate\u001b[49m\u001b[43m(\u001b[49m\u001b[43m)\u001b[49m\n\u001b[1;32m     72\u001b[0m plot_obj\u001b[38;5;241m.\u001b[39mdraw()\n\u001b[1;32m     73\u001b[0m \u001b[38;5;28;01mreturn\u001b[39;00m plot_obj\u001b[38;5;241m.\u001b[39mresult\n",
      "File \u001b[0;32m/opt/conda/lib/python3.10/site-packages/pandas/plotting/_matplotlib/core.py:450\u001b[0m, in \u001b[0;36mMPLPlot.generate\u001b[0;34m(self)\u001b[0m\n\u001b[1;32m    448\u001b[0m \u001b[38;5;28;01mdef\u001b[39;00m \u001b[38;5;21mgenerate\u001b[39m(\u001b[38;5;28mself\u001b[39m) \u001b[38;5;241m-\u001b[39m\u001b[38;5;241m>\u001b[39m \u001b[38;5;28;01mNone\u001b[39;00m:\n\u001b[1;32m    449\u001b[0m     \u001b[38;5;28mself\u001b[39m\u001b[38;5;241m.\u001b[39m_args_adjust()\n\u001b[0;32m--> 450\u001b[0m     \u001b[38;5;28;43mself\u001b[39;49m\u001b[38;5;241;43m.\u001b[39;49m\u001b[43m_compute_plot_data\u001b[49m\u001b[43m(\u001b[49m\u001b[43m)\u001b[49m\n\u001b[1;32m    451\u001b[0m     \u001b[38;5;28mself\u001b[39m\u001b[38;5;241m.\u001b[39m_setup_subplots()\n\u001b[1;32m    452\u001b[0m     \u001b[38;5;28mself\u001b[39m\u001b[38;5;241m.\u001b[39m_make_plot()\n",
      "File \u001b[0;32m/opt/conda/lib/python3.10/site-packages/pandas/plotting/_matplotlib/core.py:635\u001b[0m, in \u001b[0;36mMPLPlot._compute_plot_data\u001b[0;34m(self)\u001b[0m\n\u001b[1;32m    633\u001b[0m \u001b[38;5;66;03m# no non-numeric frames or series allowed\u001b[39;00m\n\u001b[1;32m    634\u001b[0m \u001b[38;5;28;01mif\u001b[39;00m is_empty:\n\u001b[0;32m--> 635\u001b[0m     \u001b[38;5;28;01mraise\u001b[39;00m \u001b[38;5;167;01mTypeError\u001b[39;00m(\u001b[38;5;124m\"\u001b[39m\u001b[38;5;124mno numeric data to plot\u001b[39m\u001b[38;5;124m\"\u001b[39m)\n\u001b[1;32m    637\u001b[0m \u001b[38;5;28mself\u001b[39m\u001b[38;5;241m.\u001b[39mdata \u001b[38;5;241m=\u001b[39m numeric_data\u001b[38;5;241m.\u001b[39mapply(\u001b[38;5;28mself\u001b[39m\u001b[38;5;241m.\u001b[39m_convert_to_ndarray)\n",
      "\u001b[0;31mTypeError\u001b[0m: no numeric data to plot"
     ]
    }
   ],
   "source": [
    "foods_trimmed.plot()"
   ]
  },
  {
   "cell_type": "code",
   "execution_count": null,
   "id": "e63059b2-4b85-4598-8397-46295640c10f",
   "metadata": {},
   "outputs": [],
   "source": []
  }
 ],
 "metadata": {
  "kernelspec": {
   "display_name": "Python 3 (ipykernel)",
   "language": "python",
   "name": "python3"
  },
  "language_info": {
   "codemirror_mode": {
    "name": "ipython",
    "version": 3
   },
   "file_extension": ".py",
   "mimetype": "text/x-python",
   "name": "python",
   "nbconvert_exporter": "python",
   "pygments_lexer": "ipython3",
   "version": "3.10.8"
  }
 },
 "nbformat": 4,
 "nbformat_minor": 5
}
