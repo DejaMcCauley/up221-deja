{
 "cells": [
  {
   "cell_type": "code",
   "execution_count": 1,
   "id": "5de761cb-bb8c-4742-90c2-806cabd9e5b6",
   "metadata": {},
   "outputs": [],
   "source": [
    "import pandas as pd"
   ]
  },
  {
   "cell_type": "code",
   "execution_count": 3,
   "id": "30ecc76c-24c1-4e18-a8e0-06ad3f185bb5",
   "metadata": {},
   "outputs": [],
   "source": [
    "df=pd.read_csv(\n",
    "    'data/Logan_Unemployment.csv',\n",
    "    dtype= \n",
    "    {\n",
    "        'Geo_FIPS':str,\n",
    "        'Geo_STATE':str,\n",
    "        'Geo_COUNTY': str\n",
    "    }\n",
    ")"
   ]
  },
  {
   "cell_type": "code",
   "execution_count": 4,
   "id": "cd292cea-f902-4320-9044-3123208bb25b",
   "metadata": {},
   "outputs": [
    {
     "data": {
      "text/html": [
       "<div>\n",
       "<style scoped>\n",
       "    .dataframe tbody tr th:only-of-type {\n",
       "        vertical-align: middle;\n",
       "    }\n",
       "\n",
       "    .dataframe tbody tr th {\n",
       "        vertical-align: top;\n",
       "    }\n",
       "\n",
       "    .dataframe thead th {\n",
       "        text-align: right;\n",
       "    }\n",
       "</style>\n",
       "<table border=\"1\" class=\"dataframe\">\n",
       "  <thead>\n",
       "    <tr style=\"text-align: right;\">\n",
       "      <th></th>\n",
       "      <th>Geo_FIPS</th>\n",
       "      <th>Geo_QName</th>\n",
       "      <th>Geo_FILEID</th>\n",
       "      <th>Geo_STUSAB</th>\n",
       "      <th>Geo_SUMLEV</th>\n",
       "      <th>Geo_GEOCOMP</th>\n",
       "      <th>Geo_LOGRECNO</th>\n",
       "      <th>Geo_US</th>\n",
       "      <th>Geo_REGION</th>\n",
       "      <th>Geo_DIVISION</th>\n",
       "      <th>...</th>\n",
       "      <th>Geo_GEOID</th>\n",
       "      <th>Geo_NAME</th>\n",
       "      <th>Geo_BTTR</th>\n",
       "      <th>Geo_BTBG</th>\n",
       "      <th>Geo_PLACESE</th>\n",
       "      <th>SE_A17005_001</th>\n",
       "      <th>SE_A17005_002</th>\n",
       "      <th>SE_A17005_003</th>\n",
       "      <th>PCT_SE_A17005_002</th>\n",
       "      <th>PCT_SE_A17005_003</th>\n",
       "    </tr>\n",
       "  </thead>\n",
       "  <tbody>\n",
       "    <tr>\n",
       "      <th>0</th>\n",
       "      <td>42101028000</td>\n",
       "      <td>Census Tract 280, Philadelphia County, Pennsyl...</td>\n",
       "      <td>ACSSF</td>\n",
       "      <td>pa</td>\n",
       "      <td>140</td>\n",
       "      <td>0</td>\n",
       "      <td>9077</td>\n",
       "      <td>NaN</td>\n",
       "      <td>NaN</td>\n",
       "      <td>NaN</td>\n",
       "      <td>...</td>\n",
       "      <td>14000US42101028000</td>\n",
       "      <td>Census Tract 280</td>\n",
       "      <td>NaN</td>\n",
       "      <td>NaN</td>\n",
       "      <td>NaN</td>\n",
       "      <td>1424</td>\n",
       "      <td>1246</td>\n",
       "      <td>178</td>\n",
       "      <td>87.50</td>\n",
       "      <td>12.50</td>\n",
       "    </tr>\n",
       "    <tr>\n",
       "      <th>1</th>\n",
       "      <td>42101028100</td>\n",
       "      <td>Census Tract 281, Philadelphia County, Pennsyl...</td>\n",
       "      <td>ACSSF</td>\n",
       "      <td>pa</td>\n",
       "      <td>140</td>\n",
       "      <td>0</td>\n",
       "      <td>9078</td>\n",
       "      <td>NaN</td>\n",
       "      <td>NaN</td>\n",
       "      <td>NaN</td>\n",
       "      <td>...</td>\n",
       "      <td>14000US42101028100</td>\n",
       "      <td>Census Tract 281</td>\n",
       "      <td>NaN</td>\n",
       "      <td>NaN</td>\n",
       "      <td>NaN</td>\n",
       "      <td>2333</td>\n",
       "      <td>1891</td>\n",
       "      <td>442</td>\n",
       "      <td>81.05</td>\n",
       "      <td>18.95</td>\n",
       "    </tr>\n",
       "    <tr>\n",
       "      <th>2</th>\n",
       "      <td>42101028200</td>\n",
       "      <td>Census Tract 282, Philadelphia County, Pennsyl...</td>\n",
       "      <td>ACSSF</td>\n",
       "      <td>pa</td>\n",
       "      <td>140</td>\n",
       "      <td>0</td>\n",
       "      <td>9079</td>\n",
       "      <td>NaN</td>\n",
       "      <td>NaN</td>\n",
       "      <td>NaN</td>\n",
       "      <td>...</td>\n",
       "      <td>14000US42101028200</td>\n",
       "      <td>Census Tract 282</td>\n",
       "      <td>NaN</td>\n",
       "      <td>NaN</td>\n",
       "      <td>NaN</td>\n",
       "      <td>2296</td>\n",
       "      <td>1383</td>\n",
       "      <td>913</td>\n",
       "      <td>60.24</td>\n",
       "      <td>39.76</td>\n",
       "    </tr>\n",
       "    <tr>\n",
       "      <th>3</th>\n",
       "      <td>42101028300</td>\n",
       "      <td>Census Tract 283, Philadelphia County, Pennsyl...</td>\n",
       "      <td>ACSSF</td>\n",
       "      <td>pa</td>\n",
       "      <td>140</td>\n",
       "      <td>0</td>\n",
       "      <td>9080</td>\n",
       "      <td>NaN</td>\n",
       "      <td>NaN</td>\n",
       "      <td>NaN</td>\n",
       "      <td>...</td>\n",
       "      <td>14000US42101028300</td>\n",
       "      <td>Census Tract 283</td>\n",
       "      <td>NaN</td>\n",
       "      <td>NaN</td>\n",
       "      <td>NaN</td>\n",
       "      <td>2164</td>\n",
       "      <td>2018</td>\n",
       "      <td>146</td>\n",
       "      <td>93.25</td>\n",
       "      <td>6.75</td>\n",
       "    </tr>\n",
       "    <tr>\n",
       "      <th>4</th>\n",
       "      <td>42101028400</td>\n",
       "      <td>Census Tract 284, Philadelphia County, Pennsyl...</td>\n",
       "      <td>ACSSF</td>\n",
       "      <td>pa</td>\n",
       "      <td>140</td>\n",
       "      <td>0</td>\n",
       "      <td>9081</td>\n",
       "      <td>NaN</td>\n",
       "      <td>NaN</td>\n",
       "      <td>NaN</td>\n",
       "      <td>...</td>\n",
       "      <td>14000US42101028400</td>\n",
       "      <td>Census Tract 284</td>\n",
       "      <td>NaN</td>\n",
       "      <td>NaN</td>\n",
       "      <td>NaN</td>\n",
       "      <td>1313</td>\n",
       "      <td>1062</td>\n",
       "      <td>251</td>\n",
       "      <td>80.88</td>\n",
       "      <td>19.12</td>\n",
       "    </tr>\n",
       "  </tbody>\n",
       "</table>\n",
       "<p>5 rows × 60 columns</p>\n",
       "</div>"
      ],
      "text/plain": [
       "      Geo_FIPS                                          Geo_QName Geo_FILEID  \\\n",
       "0  42101028000  Census Tract 280, Philadelphia County, Pennsyl...      ACSSF   \n",
       "1  42101028100  Census Tract 281, Philadelphia County, Pennsyl...      ACSSF   \n",
       "2  42101028200  Census Tract 282, Philadelphia County, Pennsyl...      ACSSF   \n",
       "3  42101028300  Census Tract 283, Philadelphia County, Pennsyl...      ACSSF   \n",
       "4  42101028400  Census Tract 284, Philadelphia County, Pennsyl...      ACSSF   \n",
       "\n",
       "  Geo_STUSAB  Geo_SUMLEV  Geo_GEOCOMP  Geo_LOGRECNO  Geo_US  Geo_REGION  \\\n",
       "0         pa         140            0          9077     NaN         NaN   \n",
       "1         pa         140            0          9078     NaN         NaN   \n",
       "2         pa         140            0          9079     NaN         NaN   \n",
       "3         pa         140            0          9080     NaN         NaN   \n",
       "4         pa         140            0          9081     NaN         NaN   \n",
       "\n",
       "   Geo_DIVISION  ...           Geo_GEOID          Geo_NAME Geo_BTTR  Geo_BTBG  \\\n",
       "0           NaN  ...  14000US42101028000  Census Tract 280      NaN       NaN   \n",
       "1           NaN  ...  14000US42101028100  Census Tract 281      NaN       NaN   \n",
       "2           NaN  ...  14000US42101028200  Census Tract 282      NaN       NaN   \n",
       "3           NaN  ...  14000US42101028300  Census Tract 283      NaN       NaN   \n",
       "4           NaN  ...  14000US42101028400  Census Tract 284      NaN       NaN   \n",
       "\n",
       "   Geo_PLACESE  SE_A17005_001  SE_A17005_002  SE_A17005_003  \\\n",
       "0          NaN           1424           1246            178   \n",
       "1          NaN           2333           1891            442   \n",
       "2          NaN           2296           1383            913   \n",
       "3          NaN           2164           2018            146   \n",
       "4          NaN           1313           1062            251   \n",
       "\n",
       "   PCT_SE_A17005_002  PCT_SE_A17005_003  \n",
       "0              87.50              12.50  \n",
       "1              81.05              18.95  \n",
       "2              60.24              39.76  \n",
       "3              93.25               6.75  \n",
       "4              80.88              19.12  \n",
       "\n",
       "[5 rows x 60 columns]"
      ]
     },
     "execution_count": 4,
     "metadata": {},
     "output_type": "execute_result"
    }
   ],
   "source": [
    "df.head()"
   ]
  },
  {
   "cell_type": "code",
   "execution_count": 5,
   "id": "89f439d5-aa68-4f85-bf77-576265d4150e",
   "metadata": {},
   "outputs": [
    {
     "name": "stdout",
     "output_type": "stream",
     "text": [
      "<class 'pandas.core.frame.DataFrame'>\n",
      "RangeIndex: 6 entries, 0 to 5\n",
      "Data columns (total 60 columns):\n",
      " #   Column             Non-Null Count  Dtype  \n",
      "---  ------             --------------  -----  \n",
      " 0   Geo_FIPS           6 non-null      object \n",
      " 1   Geo_QName          6 non-null      object \n",
      " 2   Geo_FILEID         6 non-null      object \n",
      " 3   Geo_STUSAB         6 non-null      object \n",
      " 4   Geo_SUMLEV         6 non-null      int64  \n",
      " 5   Geo_GEOCOMP        6 non-null      int64  \n",
      " 6   Geo_LOGRECNO       6 non-null      int64  \n",
      " 7   Geo_US             0 non-null      float64\n",
      " 8   Geo_REGION         0 non-null      float64\n",
      " 9   Geo_DIVISION       0 non-null      float64\n",
      " 10  Geo_STATECE        0 non-null      float64\n",
      " 11  Geo_STATE          6 non-null      object \n",
      " 12  Geo_COUNTY         6 non-null      object \n",
      " 13  Geo_COUSUB         0 non-null      float64\n",
      " 14  Geo_PLACE          0 non-null      float64\n",
      " 15  Geo_TRACT          6 non-null      int64  \n",
      " 16  Geo_BLKGRP         0 non-null      float64\n",
      " 17  Geo_CONCIT         0 non-null      float64\n",
      " 18  Geo_AIANHH         0 non-null      float64\n",
      " 19  Geo_AIANHHFP       0 non-null      float64\n",
      " 20  Geo_AIHHTLI        0 non-null      float64\n",
      " 21  Geo_AITSCE         0 non-null      float64\n",
      " 22  Geo_AITS           0 non-null      float64\n",
      " 23  Geo_ANRC           0 non-null      float64\n",
      " 24  Geo_CBSA           0 non-null      float64\n",
      " 25  Geo_CSA            0 non-null      float64\n",
      " 26  Geo_METDIV         0 non-null      float64\n",
      " 27  Geo_MACC           0 non-null      float64\n",
      " 28  Geo_MEMI           0 non-null      float64\n",
      " 29  Geo_NECTA          0 non-null      float64\n",
      " 30  Geo_CNECTA         0 non-null      float64\n",
      " 31  Geo_NECTADIV       0 non-null      float64\n",
      " 32  Geo_UA             0 non-null      float64\n",
      " 33  Geo_UACP           0 non-null      float64\n",
      " 34  Geo_CDCURR         0 non-null      float64\n",
      " 35  Geo_SLDU           0 non-null      float64\n",
      " 36  Geo_SLDL           0 non-null      float64\n",
      " 37  Geo_VTD            0 non-null      float64\n",
      " 38  Geo_ZCTA3          0 non-null      float64\n",
      " 39  Geo_ZCTA5          0 non-null      float64\n",
      " 40  Geo_SUBMCD         0 non-null      float64\n",
      " 41  Geo_SDELM          0 non-null      float64\n",
      " 42  Geo_SDSEC          0 non-null      float64\n",
      " 43  Geo_SDUNI          0 non-null      float64\n",
      " 44  Geo_UR             0 non-null      float64\n",
      " 45  Geo_PCI            0 non-null      float64\n",
      " 46  Geo_TAZ            0 non-null      float64\n",
      " 47  Geo_UGA            0 non-null      float64\n",
      " 48  Geo_PUMA5          0 non-null      float64\n",
      " 49  Geo_PUMA1          0 non-null      float64\n",
      " 50  Geo_GEOID          6 non-null      object \n",
      " 51  Geo_NAME           6 non-null      object \n",
      " 52  Geo_BTTR           0 non-null      float64\n",
      " 53  Geo_BTBG           0 non-null      float64\n",
      " 54  Geo_PLACESE        0 non-null      float64\n",
      " 55  SE_A17005_001      6 non-null      int64  \n",
      " 56  SE_A17005_002      6 non-null      int64  \n",
      " 57  SE_A17005_003      6 non-null      int64  \n",
      " 58  PCT_SE_A17005_002  6 non-null      float64\n",
      " 59  PCT_SE_A17005_003  6 non-null      float64\n",
      "dtypes: float64(45), int64(7), object(8)\n",
      "memory usage: 2.9+ KB\n"
     ]
    }
   ],
   "source": [
    "df.info(verbose = True,show_counts = True)"
   ]
  },
  {
   "cell_type": "code",
   "execution_count": 6,
   "id": "19993de4-3611-4745-88eb-90dacaaec53e",
   "metadata": {},
   "outputs": [
    {
     "data": {
      "text/plain": [
       "['Geo_US',\n",
       " 'Geo_REGION',\n",
       " 'Geo_DIVISION',\n",
       " 'Geo_STATECE',\n",
       " 'Geo_COUSUB',\n",
       " 'Geo_PLACE',\n",
       " 'Geo_BLKGRP',\n",
       " 'Geo_CONCIT',\n",
       " 'Geo_AIANHH',\n",
       " 'Geo_AIANHHFP',\n",
       " 'Geo_AIHHTLI',\n",
       " 'Geo_AITSCE',\n",
       " 'Geo_AITS',\n",
       " 'Geo_ANRC',\n",
       " 'Geo_CBSA',\n",
       " 'Geo_CSA',\n",
       " 'Geo_METDIV',\n",
       " 'Geo_MACC',\n",
       " 'Geo_MEMI',\n",
       " 'Geo_NECTA',\n",
       " 'Geo_CNECTA',\n",
       " 'Geo_NECTADIV',\n",
       " 'Geo_UA',\n",
       " 'Geo_UACP',\n",
       " 'Geo_CDCURR',\n",
       " 'Geo_SLDU',\n",
       " 'Geo_SLDL',\n",
       " 'Geo_VTD',\n",
       " 'Geo_ZCTA3',\n",
       " 'Geo_ZCTA5',\n",
       " 'Geo_SUBMCD',\n",
       " 'Geo_SDELM',\n",
       " 'Geo_SDSEC',\n",
       " 'Geo_SDUNI',\n",
       " 'Geo_UR',\n",
       " 'Geo_PCI',\n",
       " 'Geo_TAZ',\n",
       " 'Geo_UGA',\n",
       " 'Geo_PUMA5',\n",
       " 'Geo_PUMA1',\n",
       " 'Geo_BTTR',\n",
       " 'Geo_BTBG',\n",
       " 'Geo_PLACESE']"
      ]
     },
     "execution_count": 6,
     "metadata": {},
     "output_type": "execute_result"
    }
   ],
   "source": [
    "#dropping and deleting null columns, list of fields below have no data in them \n",
    "df.columns[df.isna().all()].tolist()"
   ]
  },
  {
   "cell_type": "code",
   "execution_count": 7,
   "id": "b4e32e0b-d387-4ed3-ac9e-e9cd72bb4b4b",
   "metadata": {},
   "outputs": [],
   "source": [
    "#dropping columns with no data \n",
    "df=df.dropna(axis=1,how=\"all\")"
   ]
  },
  {
   "cell_type": "code",
   "execution_count": 8,
   "id": "72af705f-6460-4931-b936-84eee523b983",
   "metadata": {},
   "outputs": [
    {
     "name": "stdout",
     "output_type": "stream",
     "text": [
      "<class 'pandas.core.frame.DataFrame'>\n",
      "RangeIndex: 6 entries, 0 to 5\n",
      "Data columns (total 17 columns):\n",
      " #   Column             Non-Null Count  Dtype  \n",
      "---  ------             --------------  -----  \n",
      " 0   Geo_FIPS           6 non-null      object \n",
      " 1   Geo_QName          6 non-null      object \n",
      " 2   Geo_FILEID         6 non-null      object \n",
      " 3   Geo_STUSAB         6 non-null      object \n",
      " 4   Geo_SUMLEV         6 non-null      int64  \n",
      " 5   Geo_GEOCOMP        6 non-null      int64  \n",
      " 6   Geo_LOGRECNO       6 non-null      int64  \n",
      " 7   Geo_STATE          6 non-null      object \n",
      " 8   Geo_COUNTY         6 non-null      object \n",
      " 9   Geo_TRACT          6 non-null      int64  \n",
      " 10  Geo_GEOID          6 non-null      object \n",
      " 11  Geo_NAME           6 non-null      object \n",
      " 12  SE_A17005_001      6 non-null      int64  \n",
      " 13  SE_A17005_002      6 non-null      int64  \n",
      " 14  SE_A17005_003      6 non-null      int64  \n",
      " 15  PCT_SE_A17005_002  6 non-null      float64\n",
      " 16  PCT_SE_A17005_003  6 non-null      float64\n",
      "dtypes: float64(2), int64(7), object(8)\n",
      "memory usage: 944.0+ bytes\n"
     ]
    }
   ],
   "source": [
    "#check data with dropped null columns \n",
    "df.info()"
   ]
  },
  {
   "cell_type": "code",
   "execution_count": 9,
   "id": "31c5dd7d-0f8f-4309-a6fa-366184632803",
   "metadata": {},
   "outputs": [
    {
     "data": {
      "text/html": [
       "<div>\n",
       "<style scoped>\n",
       "    .dataframe tbody tr th:only-of-type {\n",
       "        vertical-align: middle;\n",
       "    }\n",
       "\n",
       "    .dataframe tbody tr th {\n",
       "        vertical-align: top;\n",
       "    }\n",
       "\n",
       "    .dataframe thead th {\n",
       "        text-align: right;\n",
       "    }\n",
       "</style>\n",
       "<table border=\"1\" class=\"dataframe\">\n",
       "  <thead>\n",
       "    <tr style=\"text-align: right;\">\n",
       "      <th></th>\n",
       "      <th>Geo_FIPS</th>\n",
       "      <th>Geo_QName</th>\n",
       "      <th>Geo_FILEID</th>\n",
       "      <th>Geo_STUSAB</th>\n",
       "      <th>Geo_SUMLEV</th>\n",
       "      <th>Geo_GEOCOMP</th>\n",
       "      <th>Geo_LOGRECNO</th>\n",
       "      <th>Geo_STATE</th>\n",
       "      <th>Geo_COUNTY</th>\n",
       "      <th>Geo_TRACT</th>\n",
       "      <th>Geo_GEOID</th>\n",
       "      <th>Geo_NAME</th>\n",
       "      <th>SE_A17005_001</th>\n",
       "      <th>SE_A17005_002</th>\n",
       "      <th>SE_A17005_003</th>\n",
       "      <th>PCT_SE_A17005_002</th>\n",
       "      <th>PCT_SE_A17005_003</th>\n",
       "    </tr>\n",
       "  </thead>\n",
       "  <tbody>\n",
       "    <tr>\n",
       "      <th>0</th>\n",
       "      <td>42101028000</td>\n",
       "      <td>Census Tract 280, Philadelphia County, Pennsyl...</td>\n",
       "      <td>ACSSF</td>\n",
       "      <td>pa</td>\n",
       "      <td>140</td>\n",
       "      <td>0</td>\n",
       "      <td>9077</td>\n",
       "      <td>42</td>\n",
       "      <td>101</td>\n",
       "      <td>28000</td>\n",
       "      <td>14000US42101028000</td>\n",
       "      <td>Census Tract 280</td>\n",
       "      <td>1424</td>\n",
       "      <td>1246</td>\n",
       "      <td>178</td>\n",
       "      <td>87.50</td>\n",
       "      <td>12.50</td>\n",
       "    </tr>\n",
       "    <tr>\n",
       "      <th>1</th>\n",
       "      <td>42101028100</td>\n",
       "      <td>Census Tract 281, Philadelphia County, Pennsyl...</td>\n",
       "      <td>ACSSF</td>\n",
       "      <td>pa</td>\n",
       "      <td>140</td>\n",
       "      <td>0</td>\n",
       "      <td>9078</td>\n",
       "      <td>42</td>\n",
       "      <td>101</td>\n",
       "      <td>28100</td>\n",
       "      <td>14000US42101028100</td>\n",
       "      <td>Census Tract 281</td>\n",
       "      <td>2333</td>\n",
       "      <td>1891</td>\n",
       "      <td>442</td>\n",
       "      <td>81.05</td>\n",
       "      <td>18.95</td>\n",
       "    </tr>\n",
       "    <tr>\n",
       "      <th>2</th>\n",
       "      <td>42101028200</td>\n",
       "      <td>Census Tract 282, Philadelphia County, Pennsyl...</td>\n",
       "      <td>ACSSF</td>\n",
       "      <td>pa</td>\n",
       "      <td>140</td>\n",
       "      <td>0</td>\n",
       "      <td>9079</td>\n",
       "      <td>42</td>\n",
       "      <td>101</td>\n",
       "      <td>28200</td>\n",
       "      <td>14000US42101028200</td>\n",
       "      <td>Census Tract 282</td>\n",
       "      <td>2296</td>\n",
       "      <td>1383</td>\n",
       "      <td>913</td>\n",
       "      <td>60.24</td>\n",
       "      <td>39.76</td>\n",
       "    </tr>\n",
       "    <tr>\n",
       "      <th>3</th>\n",
       "      <td>42101028300</td>\n",
       "      <td>Census Tract 283, Philadelphia County, Pennsyl...</td>\n",
       "      <td>ACSSF</td>\n",
       "      <td>pa</td>\n",
       "      <td>140</td>\n",
       "      <td>0</td>\n",
       "      <td>9080</td>\n",
       "      <td>42</td>\n",
       "      <td>101</td>\n",
       "      <td>28300</td>\n",
       "      <td>14000US42101028300</td>\n",
       "      <td>Census Tract 283</td>\n",
       "      <td>2164</td>\n",
       "      <td>2018</td>\n",
       "      <td>146</td>\n",
       "      <td>93.25</td>\n",
       "      <td>6.75</td>\n",
       "    </tr>\n",
       "    <tr>\n",
       "      <th>4</th>\n",
       "      <td>42101028400</td>\n",
       "      <td>Census Tract 284, Philadelphia County, Pennsyl...</td>\n",
       "      <td>ACSSF</td>\n",
       "      <td>pa</td>\n",
       "      <td>140</td>\n",
       "      <td>0</td>\n",
       "      <td>9081</td>\n",
       "      <td>42</td>\n",
       "      <td>101</td>\n",
       "      <td>28400</td>\n",
       "      <td>14000US42101028400</td>\n",
       "      <td>Census Tract 284</td>\n",
       "      <td>1313</td>\n",
       "      <td>1062</td>\n",
       "      <td>251</td>\n",
       "      <td>80.88</td>\n",
       "      <td>19.12</td>\n",
       "    </tr>\n",
       "  </tbody>\n",
       "</table>\n",
       "</div>"
      ],
      "text/plain": [
       "      Geo_FIPS                                          Geo_QName Geo_FILEID  \\\n",
       "0  42101028000  Census Tract 280, Philadelphia County, Pennsyl...      ACSSF   \n",
       "1  42101028100  Census Tract 281, Philadelphia County, Pennsyl...      ACSSF   \n",
       "2  42101028200  Census Tract 282, Philadelphia County, Pennsyl...      ACSSF   \n",
       "3  42101028300  Census Tract 283, Philadelphia County, Pennsyl...      ACSSF   \n",
       "4  42101028400  Census Tract 284, Philadelphia County, Pennsyl...      ACSSF   \n",
       "\n",
       "  Geo_STUSAB  Geo_SUMLEV  Geo_GEOCOMP  Geo_LOGRECNO Geo_STATE Geo_COUNTY  \\\n",
       "0         pa         140            0          9077        42        101   \n",
       "1         pa         140            0          9078        42        101   \n",
       "2         pa         140            0          9079        42        101   \n",
       "3         pa         140            0          9080        42        101   \n",
       "4         pa         140            0          9081        42        101   \n",
       "\n",
       "   Geo_TRACT           Geo_GEOID          Geo_NAME  SE_A17005_001  \\\n",
       "0      28000  14000US42101028000  Census Tract 280           1424   \n",
       "1      28100  14000US42101028100  Census Tract 281           2333   \n",
       "2      28200  14000US42101028200  Census Tract 282           2296   \n",
       "3      28300  14000US42101028300  Census Tract 283           2164   \n",
       "4      28400  14000US42101028400  Census Tract 284           1313   \n",
       "\n",
       "   SE_A17005_002  SE_A17005_003  PCT_SE_A17005_002  PCT_SE_A17005_003  \n",
       "0           1246            178              87.50              12.50  \n",
       "1           1891            442              81.05              18.95  \n",
       "2           1383            913              60.24              39.76  \n",
       "3           2018            146              93.25               6.75  \n",
       "4           1062            251              80.88              19.12  "
      ]
     },
     "execution_count": 9,
     "metadata": {},
     "output_type": "execute_result"
    }
   ],
   "source": [
    "#reinspect the data\n",
    "df.head()"
   ]
  },
  {
   "cell_type": "code",
   "execution_count": 11,
   "id": "a70860bf-c92d-4108-a8af-2b74f48e4cc7",
   "metadata": {},
   "outputs": [],
   "source": [
    "#define columns to keep\n",
    "columns_to_keep=['Geo_FIPS',\n",
    "                 'SE_A17005_001',\n",
    "                 'SE_A17005_002',\n",
    "                 'SE_A17005_003',\n",
    "                 'PCT_SE_A17005_002',\n",
    "                 'PCT_SE_A17005_003',]\n",
    "#add it to a new dataframe\n",
    "df2=df[columns_to_keep]"
   ]
  },
  {
   "cell_type": "code",
   "execution_count": 12,
   "id": "4d9c1fa0-433c-456f-960b-5a6e006eedce",
   "metadata": {},
   "outputs": [
    {
     "data": {
      "text/plain": [
       "['Geo_FIPS',\n",
       " 'SE_A17005_001',\n",
       " 'SE_A17005_002',\n",
       " 'SE_A17005_003',\n",
       " 'PCT_SE_A17005_002',\n",
       " 'PCT_SE_A17005_003']"
      ]
     },
     "execution_count": 12,
     "metadata": {},
     "output_type": "execute_result"
    }
   ],
   "source": [
    "#look at columns in new dataframe, same as df.columns.to_list\n",
    "columns=list(df2)\n",
    "columns"
   ]
  },
  {
   "cell_type": "code",
   "execution_count": 13,
   "id": "6fce8210-bf21-4448-b3f7-743d7a6d8438",
   "metadata": {},
   "outputs": [],
   "source": [
    "df2.columns=['FIPS',\n",
    "             'Total Labor',\n",
    "             'Employed',\n",
    "             'Unemployed',\n",
    "             'Pct Employed',\n",
    "             'Pct Unemployed']"
   ]
  },
  {
   "cell_type": "code",
   "execution_count": 14,
   "id": "786a2e30-f185-4e8a-b577-f6f5a559d835",
   "metadata": {},
   "outputs": [
    {
     "data": {
      "text/html": [
       "<div>\n",
       "<style scoped>\n",
       "    .dataframe tbody tr th:only-of-type {\n",
       "        vertical-align: middle;\n",
       "    }\n",
       "\n",
       "    .dataframe tbody tr th {\n",
       "        vertical-align: top;\n",
       "    }\n",
       "\n",
       "    .dataframe thead th {\n",
       "        text-align: right;\n",
       "    }\n",
       "</style>\n",
       "<table border=\"1\" class=\"dataframe\">\n",
       "  <thead>\n",
       "    <tr style=\"text-align: right;\">\n",
       "      <th></th>\n",
       "      <th>FIPS</th>\n",
       "      <th>Total Labor</th>\n",
       "      <th>Employed</th>\n",
       "      <th>Unemployed</th>\n",
       "      <th>Pct Employed</th>\n",
       "      <th>Pct Unemployed</th>\n",
       "    </tr>\n",
       "  </thead>\n",
       "  <tbody>\n",
       "    <tr>\n",
       "      <th>4</th>\n",
       "      <td>42101028400</td>\n",
       "      <td>1313</td>\n",
       "      <td>1062</td>\n",
       "      <td>251</td>\n",
       "      <td>80.88</td>\n",
       "      <td>19.12</td>\n",
       "    </tr>\n",
       "    <tr>\n",
       "      <th>2</th>\n",
       "      <td>42101028200</td>\n",
       "      <td>2296</td>\n",
       "      <td>1383</td>\n",
       "      <td>913</td>\n",
       "      <td>60.24</td>\n",
       "      <td>39.76</td>\n",
       "    </tr>\n",
       "    <tr>\n",
       "      <th>5</th>\n",
       "      <td>42101028500</td>\n",
       "      <td>1016</td>\n",
       "      <td>875</td>\n",
       "      <td>141</td>\n",
       "      <td>86.12</td>\n",
       "      <td>13.88</td>\n",
       "    </tr>\n",
       "    <tr>\n",
       "      <th>3</th>\n",
       "      <td>42101028300</td>\n",
       "      <td>2164</td>\n",
       "      <td>2018</td>\n",
       "      <td>146</td>\n",
       "      <td>93.25</td>\n",
       "      <td>6.75</td>\n",
       "    </tr>\n",
       "    <tr>\n",
       "      <th>0</th>\n",
       "      <td>42101028000</td>\n",
       "      <td>1424</td>\n",
       "      <td>1246</td>\n",
       "      <td>178</td>\n",
       "      <td>87.50</td>\n",
       "      <td>12.50</td>\n",
       "    </tr>\n",
       "  </tbody>\n",
       "</table>\n",
       "</div>"
      ],
      "text/plain": [
       "          FIPS  Total Labor  Employed  Unemployed  Pct Employed  \\\n",
       "4  42101028400         1313      1062         251         80.88   \n",
       "2  42101028200         2296      1383         913         60.24   \n",
       "5  42101028500         1016       875         141         86.12   \n",
       "3  42101028300         2164      2018         146         93.25   \n",
       "0  42101028000         1424      1246         178         87.50   \n",
       "\n",
       "   Pct Unemployed  \n",
       "4           19.12  \n",
       "2           39.76  \n",
       "5           13.88  \n",
       "3            6.75  \n",
       "0           12.50  "
      ]
     },
     "execution_count": 14,
     "metadata": {},
     "output_type": "execute_result"
    }
   ],
   "source": [
    "df2.sample(5)"
   ]
  },
  {
   "cell_type": "code",
   "execution_count": 15,
   "id": "646e09b1-18d2-4adf-b64b-79200763fc96",
   "metadata": {},
   "outputs": [
    {
     "data": {
      "text/plain": [
       "0    1246\n",
       "1    1891\n",
       "2    1383\n",
       "3    2018\n",
       "4    1062\n",
       "Name: Employed, dtype: int64"
      ]
     },
     "execution_count": 15,
     "metadata": {},
     "output_type": "execute_result"
    }
   ],
   "source": [
    "# accessing a single column, number employed \n",
    "df2['Employed'].head()"
   ]
  },
  {
   "cell_type": "code",
   "execution_count": 16,
   "id": "06826e1f-2552-4290-a5f2-d34c10b817b5",
   "metadata": {},
   "outputs": [
    {
     "data": {
      "text/plain": [
       "1412.5"
      ]
     },
     "execution_count": 16,
     "metadata": {},
     "output_type": "execute_result"
    }
   ],
   "source": [
    "#what is the average number of employed in philly per census tract\n",
    "df2['Employed'].mean()"
   ]
  },
  {
   "cell_type": "code",
   "execution_count": 17,
   "id": "fd36318f-5885-4cd1-bd6d-9264039546c5",
   "metadata": {},
   "outputs": [
    {
     "data": {
      "text/plain": [
       "81.50666666666667"
      ]
     },
     "execution_count": 17,
     "metadata": {},
     "output_type": "execute_result"
    }
   ],
   "source": [
    "df2['Pct Employed'].mean() # average of 81.5% of people are employed in each census tract compared to 91% in philly"
   ]
  },
  {
   "cell_type": "code",
   "execution_count": 18,
   "id": "df85bd8c-14c1-4ea0-b8c5-276cae16131e",
   "metadata": {},
   "outputs": [
    {
     "data": {
      "text/plain": [
       "18.493333333333332"
      ]
     },
     "execution_count": 18,
     "metadata": {},
     "output_type": "execute_result"
    }
   ],
   "source": [
    "df2['Pct Unemployed'].mean() #average of 18.5% of people unemployed in each census tract compared to 9% in Philly"
   ]
  },
  {
   "cell_type": "code",
   "execution_count": 19,
   "id": "ad13905f-aca7-42fb-ab34-3fb1ca1c0e2c",
   "metadata": {},
   "outputs": [
    {
     "data": {
      "text/plain": [
       "<AxesSubplot: ylabel='Frequency'>"
      ]
     },
     "execution_count": 19,
     "metadata": {},
     "output_type": "execute_result"
    },
    {
     "data": {
      "image/png": "[encoded data removed]",
      "text/plain": [
       "<Figure size 640x480 with 1 Axes>"
      ]
     },
     "metadata": {},
     "output_type": "display_data"
    }
   ],
   "source": [
    "#unemployed labor force ranges from 0 people to 1000 people per census tract\n",
    "df2['Unemployed'].plot.hist(bins=50)"
   ]
  },
  {
   "cell_type": "code",
   "execution_count": 20,
   "id": "3c043651-b2c9-4f04-a46b-b9643c2f7d8a",
   "metadata": {},
   "outputs": [
    {
     "data": {
      "text/plain": [
       "<AxesSubplot: >"
      ]
     },
     "execution_count": 20,
     "metadata": {},
     "output_type": "execute_result"
    },
    {
     "data": {
      "image/png": "[encoded data removed]",
      "text/plain": [
       "<Figure size 640x480 with 1 Axes>"
      ]
     },
     "metadata": {},
     "output_type": "display_data"
    }
   ],
   "source": [
    "df2.boxplot(column=['Unemployed'])"
   ]
  },
  {
   "cell_type": "code",
   "execution_count": 21,
   "id": "b8e6d452-2b3f-4aac-b977-bcd76878d44c",
   "metadata": {},
   "outputs": [
    {
     "data": {
      "text/plain": [
       "<AxesSubplot: xlabel='Employed', ylabel='Unemployed'>"
      ]
     },
     "execution_count": 21,
     "metadata": {},
     "output_type": "execute_result"
    },
    {
     "data": {
      "image/png": "[encoded data removed]",
      "text/plain": [
       "<Figure size 640x480 with 1 Axes>"
      ]
     },
     "metadata": {},
     "output_type": "display_data"
    }
   ],
   "source": [
    "df2.plot.scatter(x='Employed',y='Unemployed')"
   ]
  },
  {
   "cell_type": "code",
   "execution_count": 22,
   "id": "ab69d1df-b092-46c6-9a9e-844a54f95020",
   "metadata": {},
   "outputs": [],
   "source": [
    "#sorting top or highest employed census tracts \n",
    "df_sorted= df2.sort_values(by= 'Employed',ascending= False)"
   ]
  },
  {
   "cell_type": "code",
   "execution_count": 23,
   "id": "294c97fd-4a8a-4cad-a70f-24d7a2f87ae1",
   "metadata": {},
   "outputs": [
    {
     "data": {
      "text/html": [
       "<div>\n",
       "<style scoped>\n",
       "    .dataframe tbody tr th:only-of-type {\n",
       "        vertical-align: middle;\n",
       "    }\n",
       "\n",
       "    .dataframe tbody tr th {\n",
       "        vertical-align: top;\n",
       "    }\n",
       "\n",
       "    .dataframe thead th {\n",
       "        text-align: right;\n",
       "    }\n",
       "</style>\n",
       "<table border=\"1\" class=\"dataframe\">\n",
       "  <thead>\n",
       "    <tr style=\"text-align: right;\">\n",
       "      <th></th>\n",
       "      <th>FIPS</th>\n",
       "      <th>Employed</th>\n",
       "    </tr>\n",
       "  </thead>\n",
       "  <tbody>\n",
       "    <tr>\n",
       "      <th>3</th>\n",
       "      <td>42101028300</td>\n",
       "      <td>2018</td>\n",
       "    </tr>\n",
       "    <tr>\n",
       "      <th>1</th>\n",
       "      <td>42101028100</td>\n",
       "      <td>1891</td>\n",
       "    </tr>\n",
       "    <tr>\n",
       "      <th>2</th>\n",
       "      <td>42101028200</td>\n",
       "      <td>1383</td>\n",
       "    </tr>\n",
       "    <tr>\n",
       "      <th>0</th>\n",
       "      <td>42101028000</td>\n",
       "      <td>1246</td>\n",
       "    </tr>\n",
       "    <tr>\n",
       "      <th>4</th>\n",
       "      <td>42101028400</td>\n",
       "      <td>1062</td>\n",
       "    </tr>\n",
       "    <tr>\n",
       "      <th>5</th>\n",
       "      <td>42101028500</td>\n",
       "      <td>875</td>\n",
       "    </tr>\n",
       "  </tbody>\n",
       "</table>\n",
       "</div>"
      ],
      "text/plain": [
       "          FIPS  Employed\n",
       "3  42101028300      2018\n",
       "1  42101028100      1891\n",
       "2  42101028200      1383\n",
       "0  42101028000      1246\n",
       "4  42101028400      1062\n",
       "5  42101028500       875"
      ]
     },
     "execution_count": 23,
     "metadata": {},
     "output_type": "execute_result"
    }
   ],
   "source": [
    "#display a few columns of the data \n",
    "df_sorted[['FIPS','Employed']].head(6)"
   ]
  },
  {
   "cell_type": "code",
   "execution_count": 24,
   "id": "bcfb6f92-2c85-411f-9a19-dd0b7cdf617c",
   "metadata": {},
   "outputs": [
    {
     "data": {
      "text/plain": [
       "<AxesSubplot: xlabel='FIPS'>"
      ]
     },
     "execution_count": 24,
     "metadata": {},
     "output_type": "execute_result"
    },
    {
     "data": {
      "image/png": "[encoded data removed]",
      "text/plain": [
       "<Figure size 640x480 with 1 Axes>"
      ]
     },
     "metadata": {},
     "output_type": "display_data"
    }
   ],
   "source": [
    "df_sorted.head(6).plot.bar(x='FIPS',y= 'Employed')"
   ]
  },
  {
   "cell_type": "code",
   "execution_count": 25,
   "id": "519fd1f5-c765-435c-b57b-2bc62b2e98b0",
   "metadata": {},
   "outputs": [],
   "source": [
    "#same for unemployed \n",
    "df_sorted= df2.sort_values(by= 'Unemployed',ascending= False)"
   ]
  },
  {
   "cell_type": "code",
   "execution_count": 26,
   "id": "4d179576-2547-4f97-b0fe-17b1a6dac4fd",
   "metadata": {},
   "outputs": [
    {
     "data": {
      "text/html": [
       "<div>\n",
       "<style scoped>\n",
       "    .dataframe tbody tr th:only-of-type {\n",
       "        vertical-align: middle;\n",
       "    }\n",
       "\n",
       "    .dataframe tbody tr th {\n",
       "        vertical-align: top;\n",
       "    }\n",
       "\n",
       "    .dataframe thead th {\n",
       "        text-align: right;\n",
       "    }\n",
       "</style>\n",
       "<table border=\"1\" class=\"dataframe\">\n",
       "  <thead>\n",
       "    <tr style=\"text-align: right;\">\n",
       "      <th></th>\n",
       "      <th>FIPS</th>\n",
       "      <th>Unemployed</th>\n",
       "    </tr>\n",
       "  </thead>\n",
       "  <tbody>\n",
       "    <tr>\n",
       "      <th>2</th>\n",
       "      <td>42101028200</td>\n",
       "      <td>913</td>\n",
       "    </tr>\n",
       "    <tr>\n",
       "      <th>1</th>\n",
       "      <td>42101028100</td>\n",
       "      <td>442</td>\n",
       "    </tr>\n",
       "    <tr>\n",
       "      <th>4</th>\n",
       "      <td>42101028400</td>\n",
       "      <td>251</td>\n",
       "    </tr>\n",
       "    <tr>\n",
       "      <th>0</th>\n",
       "      <td>42101028000</td>\n",
       "      <td>178</td>\n",
       "    </tr>\n",
       "    <tr>\n",
       "      <th>3</th>\n",
       "      <td>42101028300</td>\n",
       "      <td>146</td>\n",
       "    </tr>\n",
       "    <tr>\n",
       "      <th>5</th>\n",
       "      <td>42101028500</td>\n",
       "      <td>141</td>\n",
       "    </tr>\n",
       "  </tbody>\n",
       "</table>\n",
       "</div>"
      ],
      "text/plain": [
       "          FIPS  Unemployed\n",
       "2  42101028200         913\n",
       "1  42101028100         442\n",
       "4  42101028400         251\n",
       "0  42101028000         178\n",
       "3  42101028300         146\n",
       "5  42101028500         141"
      ]
     },
     "execution_count": 26,
     "metadata": {},
     "output_type": "execute_result"
    }
   ],
   "source": [
    "df_sorted[['FIPS','Unemployed']].head(6)"
   ]
  },
  {
   "cell_type": "code",
   "execution_count": 27,
   "id": "63731ef4-a5a4-4852-a203-ad836f1f44e7",
   "metadata": {},
   "outputs": [
    {
     "data": {
      "text/plain": [
       "<AxesSubplot: xlabel='FIPS'>"
      ]
     },
     "execution_count": 27,
     "metadata": {},
     "output_type": "execute_result"
    },
    {
     "data": {
      "image/png": "[encoded data removed]",
      "text/plain": [
       "<Figure size 640x480 with 1 Axes>"
      ]
     },
     "metadata": {},
     "output_type": "display_data"
    }
   ],
   "source": [
    "df_sorted.head(6).plot.bar(x='FIPS',y= 'Unemployed')"
   ]
  },
  {
   "cell_type": "code",
   "execution_count": 30,
   "id": "ecf78d24-dc06-4e3f-ace6-249f1260b28f",
   "metadata": {},
   "outputs": [
    {
     "data": {
      "text/plain": [
       "<AxesSubplot: title={'center': 'Number of Unemployed per Census Tract in Logan Area in 2021'}, xlabel='FIPS'>"
      ]
     },
     "execution_count": 30,
     "metadata": {},
     "output_type": "execute_result"
    },
    {
     "data": {
      "image/png": "[encoded data removed]",
      "text/plain": [
       "<Figure size 640x480 with 1 Axes>"
      ]
     },
     "metadata": {},
     "output_type": "display_data"
    }
   ],
   "source": [
    "df_sorted.head(6).plot.bar(x='FIPS',\n",
    "                             y= 'Unemployed',\n",
    "                             title= 'Number of Unemployed per Census Tract in Logan Area in 2021',\n",
    "                             color= 'gold')"
   ]
  },
  {
   "cell_type": "code",
   "execution_count": null,
   "id": "8eb0acf7-eda2-4c26-b1ee-4efead8b78d0",
   "metadata": {},
   "outputs": [],
   "source": []
  }
 ],
 "metadata": {
  "kernelspec": {
   "display_name": "Python 3 (ipykernel)",
   "language": "python",
   "name": "python3"
  },
  "language_info": {
   "codemirror_mode": {
    "name": "ipython",
    "version": 3
   },
   "file_extension": ".py",
   "mimetype": "text/x-python",
   "name": "python",
   "nbconvert_exporter": "python",
   "pygments_lexer": "ipython3",
   "version": "3.10.8"
  }
 },
 "nbformat": 4,
 "nbformat_minor": 5
}
